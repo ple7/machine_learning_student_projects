{
 "cells": [
  {
   "cell_type": "markdown",
   "id": "22248beb",
   "metadata": {},
   "source": [
    "# Using Stochastic Gradient Descent On Linear Regression To Predict The Best Time To Go To The Gym"
   ]
  },
  {
   "cell_type": "markdown",
   "id": "04fad9a2",
   "metadata": {},
   "source": [
    "## 1. Introduction"
   ]
  },
  {
   "cell_type": "markdown",
   "id": "4ba5e5f2",
   "metadata": {},
   "source": [
    "We will use the \"Crowdedness at the Campus Gym\" dataset and the stochastic gradient descent linear regression (SGDRegressor) algorithm from the scikit-learn library to build and train a model for predicting the best time to go to the gym and avoid crowds."
   ]
  },
  {
   "cell_type": "markdown",
   "id": "d63e9632",
   "metadata": {},
   "source": [
    "The dataset contains 11 columns with the following information.\n",
    "\n",
    "* `number_people`: this is the number of people at the gym at each observation. This will be our target variable or label.\n",
    "* `date`: a string value with the specific date and time information.\n",
    "* `timestamp`: an integer (int), with the number of seconds since the start of the day (00:00).\n",
    "* `day_of_week`: an integer (int). 0 is equal to Monday and 6 is equal to Sunday.\n",
    "* `is_weekend`: a Boolean value defining if this observation happened during a weekend. 1 for yes, 0 for no.\n",
    "* `is_holiday`: a Boolean value defining if the observation happened during a holiday. 1 for yes, 0 for no.\n",
    "* `temperature`: a float, defining the temperature during the day of the observation in Fahrenheit.\n",
    "* `is_start_of_semester`: a Boolean defining if the observation happened in the first 2 weeks of a semester. 1 for yes, 0 for no.\n",
    "* `is_during_semester`: a Boolean defining if the observation happened during the active semester. 1 for yes, 0 for no.\n",
    "* `month`: an integer (int) defining the month of the year. 1 is equal to January, 12 is equal to December.\n",
    "* `hour`: an integer (int) for the hour of the day from 0 to 23."
   ]
  },
  {
   "cell_type": "markdown",
   "id": "f5b79105",
   "metadata": {},
   "source": [
    "## 2. Import the Libraries and Load the Data"
   ]
  },
  {
   "cell_type": "code",
   "execution_count": 1,
   "id": "7479bdc7",
   "metadata": {},
   "outputs": [],
   "source": [
    "# Load the relevant libraries for the project\n",
    "import pandas as pd\n",
    "import numpy as np\n",
    "import matplotlib.pyplot as plt\n",
    "import seaborn as sns\n",
    "\n",
    "%matplotlib inline"
   ]
  },
  {
   "cell_type": "code",
   "execution_count": 2,
   "id": "d3282dfa",
   "metadata": {},
   "outputs": [
    {
     "data": {
      "text/html": [
       "<div>\n",
       "<style scoped>\n",
       "    .dataframe tbody tr th:only-of-type {\n",
       "        vertical-align: middle;\n",
       "    }\n",
       "\n",
       "    .dataframe tbody tr th {\n",
       "        vertical-align: top;\n",
       "    }\n",
       "\n",
       "    .dataframe thead th {\n",
       "        text-align: right;\n",
       "    }\n",
       "</style>\n",
       "<table border=\"1\" class=\"dataframe\">\n",
       "  <thead>\n",
       "    <tr style=\"text-align: right;\">\n",
       "      <th></th>\n",
       "      <th>number_people</th>\n",
       "      <th>date</th>\n",
       "      <th>timestamp</th>\n",
       "      <th>day_of_week</th>\n",
       "      <th>is_weekend</th>\n",
       "      <th>is_holiday</th>\n",
       "      <th>temperature</th>\n",
       "      <th>is_start_of_semester</th>\n",
       "      <th>is_during_semester</th>\n",
       "      <th>month</th>\n",
       "      <th>hour</th>\n",
       "    </tr>\n",
       "  </thead>\n",
       "  <tbody>\n",
       "    <tr>\n",
       "      <th>0</th>\n",
       "      <td>37</td>\n",
       "      <td>2015-08-14 17:00:11-07:00</td>\n",
       "      <td>61211</td>\n",
       "      <td>4</td>\n",
       "      <td>0</td>\n",
       "      <td>0</td>\n",
       "      <td>71.76</td>\n",
       "      <td>0</td>\n",
       "      <td>0</td>\n",
       "      <td>8</td>\n",
       "      <td>17</td>\n",
       "    </tr>\n",
       "    <tr>\n",
       "      <th>1</th>\n",
       "      <td>45</td>\n",
       "      <td>2015-08-14 17:20:14-07:00</td>\n",
       "      <td>62414</td>\n",
       "      <td>4</td>\n",
       "      <td>0</td>\n",
       "      <td>0</td>\n",
       "      <td>71.76</td>\n",
       "      <td>0</td>\n",
       "      <td>0</td>\n",
       "      <td>8</td>\n",
       "      <td>17</td>\n",
       "    </tr>\n",
       "    <tr>\n",
       "      <th>2</th>\n",
       "      <td>40</td>\n",
       "      <td>2015-08-14 17:30:15-07:00</td>\n",
       "      <td>63015</td>\n",
       "      <td>4</td>\n",
       "      <td>0</td>\n",
       "      <td>0</td>\n",
       "      <td>71.76</td>\n",
       "      <td>0</td>\n",
       "      <td>0</td>\n",
       "      <td>8</td>\n",
       "      <td>17</td>\n",
       "    </tr>\n",
       "    <tr>\n",
       "      <th>3</th>\n",
       "      <td>44</td>\n",
       "      <td>2015-08-14 17:40:16-07:00</td>\n",
       "      <td>63616</td>\n",
       "      <td>4</td>\n",
       "      <td>0</td>\n",
       "      <td>0</td>\n",
       "      <td>71.76</td>\n",
       "      <td>0</td>\n",
       "      <td>0</td>\n",
       "      <td>8</td>\n",
       "      <td>17</td>\n",
       "    </tr>\n",
       "    <tr>\n",
       "      <th>4</th>\n",
       "      <td>45</td>\n",
       "      <td>2015-08-14 17:50:17-07:00</td>\n",
       "      <td>64217</td>\n",
       "      <td>4</td>\n",
       "      <td>0</td>\n",
       "      <td>0</td>\n",
       "      <td>71.76</td>\n",
       "      <td>0</td>\n",
       "      <td>0</td>\n",
       "      <td>8</td>\n",
       "      <td>17</td>\n",
       "    </tr>\n",
       "  </tbody>\n",
       "</table>\n",
       "</div>"
      ],
      "text/plain": [
       "   number_people                       date  timestamp  day_of_week  \\\n",
       "0             37  2015-08-14 17:00:11-07:00      61211            4   \n",
       "1             45  2015-08-14 17:20:14-07:00      62414            4   \n",
       "2             40  2015-08-14 17:30:15-07:00      63015            4   \n",
       "3             44  2015-08-14 17:40:16-07:00      63616            4   \n",
       "4             45  2015-08-14 17:50:17-07:00      64217            4   \n",
       "\n",
       "   is_weekend  is_holiday  temperature  is_start_of_semester  \\\n",
       "0           0           0        71.76                     0   \n",
       "1           0           0        71.76                     0   \n",
       "2           0           0        71.76                     0   \n",
       "3           0           0        71.76                     0   \n",
       "4           0           0        71.76                     0   \n",
       "\n",
       "   is_during_semester  month  hour  \n",
       "0                   0      8    17  \n",
       "1                   0      8    17  \n",
       "2                   0      8    17  \n",
       "3                   0      8    17  \n",
       "4                   0      8    17  "
      ]
     },
     "execution_count": 2,
     "metadata": {},
     "output_type": "execute_result"
    }
   ],
   "source": [
    "# Read the data into a dataframe\n",
    "gym_data = pd.read_csv('crowdness_gym_data.csv', parse_dates=['date'])\n",
    "\n",
    "# Let's take a look at the first 5 rows of the dataframe\n",
    "gym_data.head()"
   ]
  },
  {
   "cell_type": "code",
   "execution_count": 3,
   "id": "bef9256f",
   "metadata": {},
   "outputs": [
    {
     "name": "stdout",
     "output_type": "stream",
     "text": [
      "<class 'pandas.core.frame.DataFrame'>\n",
      "RangeIndex: 62184 entries, 0 to 62183\n",
      "Data columns (total 11 columns):\n",
      " #   Column                Non-Null Count  Dtype  \n",
      "---  ------                --------------  -----  \n",
      " 0   number_people         62184 non-null  int64  \n",
      " 1   date                  62184 non-null  object \n",
      " 2   timestamp             62184 non-null  int64  \n",
      " 3   day_of_week           62184 non-null  int64  \n",
      " 4   is_weekend            62184 non-null  int64  \n",
      " 5   is_holiday            62184 non-null  int64  \n",
      " 6   temperature           62184 non-null  float64\n",
      " 7   is_start_of_semester  62184 non-null  int64  \n",
      " 8   is_during_semester    62184 non-null  int64  \n",
      " 9   month                 62184 non-null  int64  \n",
      " 10  hour                  62184 non-null  int64  \n",
      "dtypes: float64(1), int64(9), object(1)\n",
      "memory usage: 5.2+ MB\n"
     ]
    }
   ],
   "source": [
    "# Inspect the number of rows and columns in the dataset\n",
    "gym_data.info()"
   ]
  },
  {
   "cell_type": "markdown",
   "id": "28ccaddf",
   "metadata": {},
   "source": [
    "There are 11 columns (as noted above), and 62,184 rows, with no missing values."
   ]
  },
  {
   "cell_type": "code",
   "execution_count": 4,
   "id": "a886f794",
   "metadata": {},
   "outputs": [
    {
     "data": {
      "text/plain": [
       "number_people           0\n",
       "date                    0\n",
       "timestamp               0\n",
       "day_of_week             0\n",
       "is_weekend              0\n",
       "is_holiday              0\n",
       "temperature             0\n",
       "is_start_of_semester    0\n",
       "is_during_semester      0\n",
       "month                   0\n",
       "hour                    0\n",
       "dtype: int64"
      ]
     },
     "execution_count": 4,
     "metadata": {},
     "output_type": "execute_result"
    }
   ],
   "source": [
    "# Double check for missing values\n",
    "gym_data.isna().sum()"
   ]
  },
  {
   "cell_type": "markdown",
   "id": "7c7f7a3c",
   "metadata": {},
   "source": [
    "## 3. EDA and Cleaning the Data"
   ]
  },
  {
   "cell_type": "code",
   "execution_count": 5,
   "id": "37f6ebff",
   "metadata": {},
   "outputs": [
    {
     "data": {
      "text/html": [
       "<div>\n",
       "<style scoped>\n",
       "    .dataframe tbody tr th:only-of-type {\n",
       "        vertical-align: middle;\n",
       "    }\n",
       "\n",
       "    .dataframe tbody tr th {\n",
       "        vertical-align: top;\n",
       "    }\n",
       "\n",
       "    .dataframe thead th {\n",
       "        text-align: right;\n",
       "    }\n",
       "</style>\n",
       "<table border=\"1\" class=\"dataframe\">\n",
       "  <thead>\n",
       "    <tr style=\"text-align: right;\">\n",
       "      <th></th>\n",
       "      <th>number_people</th>\n",
       "      <th>timestamp</th>\n",
       "      <th>day_of_week</th>\n",
       "      <th>is_weekend</th>\n",
       "      <th>is_holiday</th>\n",
       "      <th>temperature</th>\n",
       "      <th>is_start_of_semester</th>\n",
       "      <th>is_during_semester</th>\n",
       "      <th>month</th>\n",
       "      <th>hour</th>\n",
       "    </tr>\n",
       "  </thead>\n",
       "  <tbody>\n",
       "    <tr>\n",
       "      <th>count</th>\n",
       "      <td>62184.000000</td>\n",
       "      <td>62184.000000</td>\n",
       "      <td>62184.000000</td>\n",
       "      <td>62184.000000</td>\n",
       "      <td>62184.000000</td>\n",
       "      <td>62184.000000</td>\n",
       "      <td>62184.000000</td>\n",
       "      <td>62184.000000</td>\n",
       "      <td>62184.000000</td>\n",
       "      <td>62184.000000</td>\n",
       "    </tr>\n",
       "    <tr>\n",
       "      <th>mean</th>\n",
       "      <td>29.072543</td>\n",
       "      <td>45799.437958</td>\n",
       "      <td>2.982504</td>\n",
       "      <td>0.282870</td>\n",
       "      <td>0.002573</td>\n",
       "      <td>58.557108</td>\n",
       "      <td>0.078831</td>\n",
       "      <td>0.660218</td>\n",
       "      <td>7.439824</td>\n",
       "      <td>12.236460</td>\n",
       "    </tr>\n",
       "    <tr>\n",
       "      <th>std</th>\n",
       "      <td>22.689026</td>\n",
       "      <td>24211.275891</td>\n",
       "      <td>1.996825</td>\n",
       "      <td>0.450398</td>\n",
       "      <td>0.050660</td>\n",
       "      <td>6.316396</td>\n",
       "      <td>0.269476</td>\n",
       "      <td>0.473639</td>\n",
       "      <td>3.445069</td>\n",
       "      <td>6.717631</td>\n",
       "    </tr>\n",
       "    <tr>\n",
       "      <th>min</th>\n",
       "      <td>0.000000</td>\n",
       "      <td>0.000000</td>\n",
       "      <td>0.000000</td>\n",
       "      <td>0.000000</td>\n",
       "      <td>0.000000</td>\n",
       "      <td>38.140000</td>\n",
       "      <td>0.000000</td>\n",
       "      <td>0.000000</td>\n",
       "      <td>1.000000</td>\n",
       "      <td>0.000000</td>\n",
       "    </tr>\n",
       "    <tr>\n",
       "      <th>25%</th>\n",
       "      <td>9.000000</td>\n",
       "      <td>26624.000000</td>\n",
       "      <td>1.000000</td>\n",
       "      <td>0.000000</td>\n",
       "      <td>0.000000</td>\n",
       "      <td>55.000000</td>\n",
       "      <td>0.000000</td>\n",
       "      <td>0.000000</td>\n",
       "      <td>5.000000</td>\n",
       "      <td>7.000000</td>\n",
       "    </tr>\n",
       "    <tr>\n",
       "      <th>50%</th>\n",
       "      <td>28.000000</td>\n",
       "      <td>46522.500000</td>\n",
       "      <td>3.000000</td>\n",
       "      <td>0.000000</td>\n",
       "      <td>0.000000</td>\n",
       "      <td>58.340000</td>\n",
       "      <td>0.000000</td>\n",
       "      <td>1.000000</td>\n",
       "      <td>8.000000</td>\n",
       "      <td>12.000000</td>\n",
       "    </tr>\n",
       "    <tr>\n",
       "      <th>75%</th>\n",
       "      <td>43.000000</td>\n",
       "      <td>66612.000000</td>\n",
       "      <td>5.000000</td>\n",
       "      <td>1.000000</td>\n",
       "      <td>0.000000</td>\n",
       "      <td>62.280000</td>\n",
       "      <td>0.000000</td>\n",
       "      <td>1.000000</td>\n",
       "      <td>10.000000</td>\n",
       "      <td>18.000000</td>\n",
       "    </tr>\n",
       "    <tr>\n",
       "      <th>max</th>\n",
       "      <td>145.000000</td>\n",
       "      <td>86399.000000</td>\n",
       "      <td>6.000000</td>\n",
       "      <td>1.000000</td>\n",
       "      <td>1.000000</td>\n",
       "      <td>87.170000</td>\n",
       "      <td>1.000000</td>\n",
       "      <td>1.000000</td>\n",
       "      <td>12.000000</td>\n",
       "      <td>23.000000</td>\n",
       "    </tr>\n",
       "  </tbody>\n",
       "</table>\n",
       "</div>"
      ],
      "text/plain": [
       "       number_people     timestamp   day_of_week    is_weekend    is_holiday  \\\n",
       "count   62184.000000  62184.000000  62184.000000  62184.000000  62184.000000   \n",
       "mean       29.072543  45799.437958      2.982504      0.282870      0.002573   \n",
       "std        22.689026  24211.275891      1.996825      0.450398      0.050660   \n",
       "min         0.000000      0.000000      0.000000      0.000000      0.000000   \n",
       "25%         9.000000  26624.000000      1.000000      0.000000      0.000000   \n",
       "50%        28.000000  46522.500000      3.000000      0.000000      0.000000   \n",
       "75%        43.000000  66612.000000      5.000000      1.000000      0.000000   \n",
       "max       145.000000  86399.000000      6.000000      1.000000      1.000000   \n",
       "\n",
       "        temperature  is_start_of_semester  is_during_semester         month  \\\n",
       "count  62184.000000          62184.000000        62184.000000  62184.000000   \n",
       "mean      58.557108              0.078831            0.660218      7.439824   \n",
       "std        6.316396              0.269476            0.473639      3.445069   \n",
       "min       38.140000              0.000000            0.000000      1.000000   \n",
       "25%       55.000000              0.000000            0.000000      5.000000   \n",
       "50%       58.340000              0.000000            1.000000      8.000000   \n",
       "75%       62.280000              0.000000            1.000000     10.000000   \n",
       "max       87.170000              1.000000            1.000000     12.000000   \n",
       "\n",
       "               hour  \n",
       "count  62184.000000  \n",
       "mean      12.236460  \n",
       "std        6.717631  \n",
       "min        0.000000  \n",
       "25%        7.000000  \n",
       "50%       12.000000  \n",
       "75%       18.000000  \n",
       "max       23.000000  "
      ]
     },
     "execution_count": 5,
     "metadata": {},
     "output_type": "execute_result"
    }
   ],
   "source": [
    "# Display the descriptive statistics for the dataframe\n",
    "gym_data.describe()"
   ]
  },
  {
   "cell_type": "markdown",
   "id": "2c2bb2bb",
   "metadata": {},
   "source": [
    "Nothing particularly jumps out in the figures above.\n",
    "\n",
    "Let's now draw some plots to get more insights into the data. We'll begin with visualizations for univariate analysis."
   ]
  },
  {
   "cell_type": "code",
   "execution_count": 6,
   "id": "d7729d0e",
   "metadata": {},
   "outputs": [
    {
     "data": {
      "image/png": "[encoded data removed]",
      "text/plain": [
       "<Figure size 432x288 with 1 Axes>"
      ]
     },
     "metadata": {
      "needs_background": "light"
     },
     "output_type": "display_data"
    }
   ],
   "source": [
    "ax = sns.countplot(x=\"day_of_week\", data=gym_data)"
   ]
  },
  {
   "cell_type": "markdown",
   "id": "bb9daf73",
   "metadata": {},
   "source": [
    "From the plot above, the count for each day of the week looks fairly even. Tuesday's count is the highest, but not by much."
   ]
  },
  {
   "cell_type": "code",
   "execution_count": 7,
   "id": "1d6e0206",
   "metadata": {},
   "outputs": [
    {
     "data": {
      "image/png": "[encoded data removed]",
      "text/plain": [
       "<Figure size 432x288 with 1 Axes>"
      ]
     },
     "metadata": {
      "needs_background": "light"
     },
     "output_type": "display_data"
    }
   ],
   "source": [
    "ax = sns.countplot(x=\"is_weekend\", data=gym_data)"
   ]
  },
  {
   "cell_type": "markdown",
   "id": "3631e2c6",
   "metadata": {},
   "source": [
    "Unsurprisingly, more observations are for non-weekend days than for weekend days. The distribution looks to mirror the ratio of non-weekend days to weekend days. (Nothing stands out here.)"
   ]
  },
  {
   "cell_type": "code",
   "execution_count": 8,
   "id": "80cb6851",
   "metadata": {},
   "outputs": [
    {
     "data": {
      "text/plain": [
       "0    0.71713\n",
       "1    0.28287\n",
       "Name: is_weekend, dtype: float64"
      ]
     },
     "execution_count": 8,
     "metadata": {},
     "output_type": "execute_result"
    }
   ],
   "source": [
    "gym_data['is_weekend'].value_counts(normalize=True)"
   ]
  },
  {
   "cell_type": "markdown",
   "id": "45a636bc",
   "metadata": {},
   "source": [
    "These figures confirm that the `is_weekend` data merely reflects the ratio of non-weekend days to weekend days."
   ]
  },
  {
   "cell_type": "code",
   "execution_count": 9,
   "id": "d24bc842",
   "metadata": {},
   "outputs": [
    {
     "data": {
      "image/png": "[encoded data removed]",
      "text/plain": [
       "<Figure size 432x288 with 1 Axes>"
      ]
     },
     "metadata": {
      "needs_background": "light"
     },
     "output_type": "display_data"
    }
   ],
   "source": [
    "ax = sns.countplot(x=\"is_holiday\", data=gym_data)"
   ]
  },
  {
   "cell_type": "markdown",
   "id": "e3c7006f",
   "metadata": {},
   "source": [
    "Clearly (and unsurprisingly) the majority of observations are not during a holiday."
   ]
  },
  {
   "cell_type": "code",
   "execution_count": 10,
   "id": "d84f8a1c",
   "metadata": {},
   "outputs": [
    {
     "data": {
      "image/png": "[encoded data removed]",
      "text/plain": [
       "<Figure size 432x288 with 1 Axes>"
      ]
     },
     "metadata": {
      "needs_background": "light"
     },
     "output_type": "display_data"
    }
   ],
   "source": [
    "ax = sns.boxplot(x=\"temperature\", data=gym_data)"
   ]
  },
  {
   "cell_type": "code",
   "execution_count": 11,
   "id": "56f8822e",
   "metadata": {},
   "outputs": [
    {
     "data": {
      "image/png": "[encoded data removed]",
      "text/plain": [
       "<Figure size 432x288 with 1 Axes>"
      ]
     },
     "metadata": {
      "needs_background": "light"
     },
     "output_type": "display_data"
    }
   ],
   "source": [
    "ax = sns.countplot(x=\"is_start_of_semester\", data=gym_data)"
   ]
  },
  {
   "cell_type": "markdown",
   "id": "9b19a961",
   "metadata": {},
   "source": [
    "Again, nothing of note here. Most observations occur during the semester as opposed to the start. This is to be expected as the start of the semester would be a shorter time range than the period for the rest of the semester."
   ]
  },
  {
   "cell_type": "code",
   "execution_count": 12,
   "id": "280703d4",
   "metadata": {},
   "outputs": [
    {
     "data": {
      "image/png": "[encoded data removed]",
      "text/plain": [
       "<Figure size 432x288 with 1 Axes>"
      ]
     },
     "metadata": {
      "needs_background": "light"
     },
     "output_type": "display_data"
    }
   ],
   "source": [
    "ax = sns.countplot(x=\"is_during_semester\", data=gym_data)"
   ]
  },
  {
   "cell_type": "markdown",
   "id": "0561ab21",
   "metadata": {},
   "source": [
    "Around twice as many more observations occur during the semester."
   ]
  },
  {
   "cell_type": "code",
   "execution_count": 13,
   "id": "15250ab0",
   "metadata": {},
   "outputs": [
    {
     "data": {
      "image/png": "[encoded data removed]",
      "text/plain": [
       "<Figure size 432x288 with 1 Axes>"
      ]
     },
     "metadata": {
      "needs_background": "light"
     },
     "output_type": "display_data"
    }
   ],
   "source": [
    "ax = sns.countplot(x=\"month\", data=gym_data)"
   ]
  },
  {
   "cell_type": "markdown",
   "id": "6eefaa92",
   "metadata": {},
   "source": [
    "The highest number of observations are in the months at the end of the calendar year, from August to December. December has the highest number of observations, and April has the lowest."
   ]
  },
  {
   "cell_type": "code",
   "execution_count": 14,
   "id": "e346b5c9",
   "metadata": {},
   "outputs": [
    {
     "data": {
      "image/png": "[encoded data removed]",
      "text/plain": [
       "<Figure size 432x288 with 1 Axes>"
      ]
     },
     "metadata": {
      "needs_background": "light"
     },
     "output_type": "display_data"
    }
   ],
   "source": [
    "ax = sns.countplot(x=\"hour\", data=gym_data)"
   ]
  },
  {
   "cell_type": "code",
   "execution_count": null,
   "id": "18732787",
   "metadata": {},
   "outputs": [],
   "source": []
  }
 ],
 "metadata": {
  "kernelspec": {
   "display_name": "Python 3 (ipykernel)",
   "language": "python",
   "name": "python3"
  },
  "language_info": {
   "codemirror_mode": {
    "name": "ipython",
    "version": 3
   },
   "file_extension": ".py",
   "mimetype": "text/x-python",
   "name": "python",
   "nbconvert_exporter": "python",
   "pygments_lexer": "ipython3",
   "version": "3.8.5"
  }
 },
 "nbformat": 4,
 "nbformat_minor": 5
}
