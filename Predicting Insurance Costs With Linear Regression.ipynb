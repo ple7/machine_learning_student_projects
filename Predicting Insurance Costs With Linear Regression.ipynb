{
 "cells": [
  {
   "cell_type": "markdown",
   "id": "30bede01",
   "metadata": {},
   "source": [
    "# Predicting Insurance Costs With Linear Regression"
   ]
  },
  {
   "cell_type": "markdown",
   "id": "e6aafe77",
   "metadata": {},
   "source": [
    "## 1. Introduction"
   ]
  },
  {
   "cell_type": "markdown",
   "id": "07dd9054",
   "metadata": {},
   "source": [
    "This project aims to forecast insurance costs by using Linear Regression on the [Medical Cost Dataset](https://www.kaggle.com/datasets/mirichoi0218/insurance?resource=download) from Kaggle, which contains information on individual medical insurance bills, where each bill is associated with some demographic and personal characteristics of its recipient."
   ]
  },
  {
   "cell_type": "markdown",
   "id": "511f3ac4",
   "metadata": {},
   "source": [
    "Of interest is how the different characteristics relate to the **total medical cost**, which is a continuous, positive number. The goal is to construct the best possible predictive model for the cost, given some information about the patient. Predicting medical costs is an important task as it allows hospitals to predict revenue and plan necessary procedures needed by its patient population."
   ]
  },
  {
   "cell_type": "code",
   "execution_count": null,
   "id": "b570f46b",
   "metadata": {},
   "outputs": [],
   "source": []
  }
 ],
 "metadata": {
  "kernelspec": {
   "display_name": "Python 3 (ipykernel)",
   "language": "python",
   "name": "python3"
  },
  "language_info": {
   "codemirror_mode": {
    "name": "ipython",
    "version": 3
   },
   "file_extension": ".py",
   "mimetype": "text/x-python",
   "name": "python",
   "nbconvert_exporter": "python",
   "pygments_lexer": "ipython3",
   "version": "3.8.5"
  }
 },
 "nbformat": 4,
 "nbformat_minor": 5
}
