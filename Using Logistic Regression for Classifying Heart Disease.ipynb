{
 "cells": [
  {
   "cell_type": "markdown",
   "id": "8e4cf081-5a23-4265-a4f1-98989ce49133",
   "metadata": {},
   "source": [
    "# Using Logistic Regression for Classifying Heart Disease"
   ]
  },
  {
   "cell_type": "code",
   "execution_count": null,
   "id": "9cb33355-25cd-4628-9eb6-ec3dc52fdd72",
   "metadata": {},
   "outputs": [],
   "source": []
  }
 ],
 "metadata": {
  "kernelspec": {
   "display_name": "Python 3 (ipykernel)",
   "language": "python",
   "name": "python3"
  },
  "language_info": {
   "codemirror_mode": {
    "name": "ipython",
    "version": 3
   },
   "file_extension": ".py",
   "mimetype": "text/x-python",
   "name": "python",
   "nbconvert_exporter": "python",
   "pygments_lexer": "ipython3",
   "version": "3.8.5"
  }
 },
 "nbformat": 4,
 "nbformat_minor": 5
}
