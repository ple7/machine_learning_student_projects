{
 "cells": [
  {
   "cell_type": "markdown",
   "id": "8e4cf081-5a23-4265-a4f1-98989ce49133",
   "metadata": {},
   "source": [
    "# Using Logistic Regression for Classifying Heart Disease"
   ]
  },
  {
   "cell_type": "markdown",
   "id": "f294869e-8dac-454f-be0e-2bed877e59e4",
   "metadata": {},
   "source": [
    "## 1. Introduction"
   ]
  },
  {
   "cell_type": "markdown",
   "id": "80dafde4-31d5-4d34-bd6e-42f89de4cd6c",
   "metadata": {},
   "source": [
    "This is a guided project from Dataquest's course \"Logistic Regression Modeling in Python\"."
   ]
  },
  {
   "cell_type": "markdown",
   "id": "a06665a0-cebb-48d4-af54-3bb49787804a",
   "metadata": {},
   "source": [
    "The aim is to implement a logistic regression machine learning model on a sanitized version of a real-life [Heart Disease dataset](https://archive.ics.uci.edu/dataset/45/heart+disease) from the UC Irvine Machine Learning Repository, donated by the Cleveland Clinic Foundation, which recorded information on various patient characteristics, such as age and chest pain, to try to classify the presence of heart disease in an individual."
   ]
  },
  {
   "cell_type": "code",
   "execution_count": null,
   "id": "158eb91c-ba2e-4518-874d-7514cb438185",
   "metadata": {},
   "outputs": [],
   "source": []
  }
 ],
 "metadata": {
  "kernelspec": {
   "display_name": "Python 3 (ipykernel)",
   "language": "python",
   "name": "python3"
  },
  "language_info": {
   "codemirror_mode": {
    "name": "ipython",
    "version": 3
   },
   "file_extension": ".py",
   "mimetype": "text/x-python",
   "name": "python",
   "nbconvert_exporter": "python",
   "pygments_lexer": "ipython3",
   "version": "3.8.5"
  }
 },
 "nbformat": 4,
 "nbformat_minor": 5
}
