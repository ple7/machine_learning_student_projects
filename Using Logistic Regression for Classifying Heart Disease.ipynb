{
 "cells": [
  {
   "cell_type": "markdown",
   "id": "f15d45da-8897-4ce4-958e-59281fd8d8da",
   "metadata": {},
   "source": [
    "# Using Logistic Regression for Classifying Heart Disease"
   ]
  },
  {
   "cell_type": "code",
   "execution_count": null,
   "id": "04abe4bf-d8d0-49a3-a1d2-71c2fc2fdbf3",
   "metadata": {},
   "outputs": [],
   "source": []
  }
 ],
 "metadata": {
  "kernelspec": {
   "display_name": "Python 3 (ipykernel)",
   "language": "python",
   "name": "python3"
  },
  "language_info": {
   "codemirror_mode": {
    "name": "ipython",
    "version": 3
   },
   "file_extension": ".py",
   "mimetype": "text/x-python",
   "name": "python",
   "nbconvert_exporter": "python",
   "pygments_lexer": "ipython3",
   "version": "3.8.5"
  }
 },
 "nbformat": 4,
 "nbformat_minor": 5
}
