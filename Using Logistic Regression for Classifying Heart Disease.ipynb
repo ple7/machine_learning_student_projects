{
 "cells": [
  {
   "cell_type": "markdown",
   "id": "f15d45da-8897-4ce4-958e-59281fd8d8da",
   "metadata": {},
   "source": [
    "# Using Logistic Regression for Classifying Heart Disease"
   ]
  },
  {
   "cell_type": "markdown",
   "id": "09a49599-b4a1-4a14-a448-957c364d4ba5",
   "metadata": {},
   "source": [
    "## 1. Introduction"
   ]
  },
  {
   "cell_type": "markdown",
   "id": "5aba1326-46da-45fd-ace2-a13ef181622d",
   "metadata": {},
   "source": [
    "This is a guided project from Dataquest's course \"Logistic Regression Modeling in Python\"."
   ]
  },
  {
   "cell_type": "markdown",
   "id": "2bb6d8ba-9b59-484a-a245-3a5bc33cec89",
   "metadata": {},
   "source": [
    "The aim is to implement a logistic regression machine learning model on a sanitized version of a real-life [Heart Disease dataset](https://archive.ics.uci.edu/dataset/45/heart+disease) from the UC Irvine Machine Learning Repository, donated by the Cleveland Clinic Foundation, which recorded information on various patient characteristics, such as age and chest pain, to try to classify the presence of heart disease in an individual."
   ]
  },
  {
   "cell_type": "markdown",
   "id": "82118481-a11c-4476-8a50-7cd7c01dc634",
   "metadata": {},
   "source": [
    "The dataset contains these attributes:\n",
    "1. **age**: age in years.\n",
    "2. **sex**: gender (1 = male; 0 = female).\n",
    "3. **cp**: chest pain type:\n",
    "    - Value 1: typical angina\n",
    "    - Value 2: atypical angina\n",
    "    - Value 3: non-anginal pain\n",
    "    - Value 4: asymptomatic\n",
    "4. **trestbps**: resting blood pressure (in mm Hg on admission to the hospital.\n",
    "5. **chol**: serum cholesterol in mg/dl.\n",
    "6. **fbs**: (fasting blood sugar > 120 mg/dl) (1 = true; 0 = false).\n",
    "7. **restecg**: resting electrocardiographic results.\n",
    "8. **thalach**: maximum heart rate achieved.\n",
    "9. **exang**: exercise induced angina (1 = yes; 0 = no)\n",
    "10. **oldpeak**: ST depression induced by exercise relative to rest\n",
    "11. **slope**: the slope of the peak exercise ST segment:\n",
    "    - Value 1: upsloping\n",
    "    - Value 2: flat\n",
    "    - Value 3: downsloping\n",
    "12. **ca**: number of major vessels (0-3) colored by flouroscopy.\n",
    "13. **thal**: 3 = normal; 6 = fixed defect; 7 = reversible defect.\n",
    "14. **present** (the predicted attribute): diagnosis of heart disease:\n",
    "    - Value 0: not present\n",
    "    - Value 1: present"
   ]
  },
  {
   "cell_type": "code",
   "execution_count": null,
   "id": "2a88b460-ce8f-4fc5-95b1-ff439423e531",
   "metadata": {},
   "outputs": [],
   "source": [
    "import pandas as pd\n",
    "\n",
    "# Read the data into a dataframe\n",
    "heart = pd.read_csv('heart_disease.csv')"
   ]
  },
  {
   "cell_type": "markdown",
   "id": "d544b71c-b676-42a0-a1d5-3a8282430eb9",
   "metadata": {},
   "source": [
    "## 2. Exploring the Dataset"
   ]
  },
  {
   "cell_type": "code",
   "execution_count": null,
   "id": "898a8645-7661-4dd5-84db-ddf958d4e028",
   "metadata": {},
   "outputs": [],
   "source": [
    "# Display the first five rows of the dataframe\n",
    "heart.head()"
   ]
  },
  {
   "cell_type": "markdown",
   "id": "827ea927-f2b1-482c-bc08-bbff505df866",
   "metadata": {},
   "source": [
    "The column \"Unnamed: 0\" appears to just be an index, which means that it's redundant and we can get rid of it."
   ]
  },
  {
   "cell_type": "code",
   "execution_count": null,
   "id": "7a6a67d2-6264-42b3-8b06-bd71acfce403",
   "metadata": {},
   "outputs": [],
   "source": [
    "heart = heart.drop('Unnamed: 0', axis=1)"
   ]
  },
  {
   "cell_type": "code",
   "execution_count": null,
   "id": "a4b79158-3d17-4e5f-bc06-49da8dd1adac",
   "metadata": {},
   "outputs": [],
   "source": [
    "# Double check the columns and rows in the dataset\n",
    "heart.info()"
   ]
  },
  {
   "cell_type": "markdown",
   "id": "e6b93635-b21e-444a-b7e6-e663ff354297",
   "metadata": {},
   "source": [
    "There are 14 columns and 303 rows all up."
   ]
  },
  {
   "cell_type": "markdown",
   "id": "9cb3c014-4c81-4b55-8f40-22d65b850601",
   "metadata": {},
   "source": [
    "As listed above, the columns **ca** and **thal** are categorical.\n",
    "\n",
    "Despite having numerical values, the following columns are in fact categorical based on their descriptions in the data dictionary at the top: **sex**, **cp**, **fbs**, **exang**, and **slope**."
   ]
  },
  {
   "cell_type": "code",
   "execution_count": null,
   "id": "0e68c45e-1b79-4ee2-b006-4df8a9d6e5af",
   "metadata": {},
   "outputs": [],
   "source": [
    "# Let's check whether 'restecg' is categorical\n",
    "heart['restecg'].unique()"
   ]
  },
  {
   "cell_type": "markdown",
   "id": "4b491309-3420-417b-ba20-65867609b1c1",
   "metadata": {},
   "source": [
    "The column **restecg** appears to be categorical as well."
   ]
  },
  {
   "cell_type": "code",
   "execution_count": null,
   "id": "2eb35a72-9e0c-4b0a-bfe0-7823ac046274",
   "metadata": {},
   "outputs": [],
   "source": [
    "# Double check for missing values.\n",
    "heart.isna().sum()"
   ]
  },
  {
   "cell_type": "markdown",
   "id": "d4118cdb-fd0e-4468-b73f-6daac6cedff1",
   "metadata": {},
   "source": [
    "There are no missing values."
   ]
  },
  {
   "cell_type": "markdown",
   "id": "841aef9b-4924-4948-b632-da593c93e620",
   "metadata": {},
   "source": [
    "### Exploratory Data Analysis: Descriptive Statistics"
   ]
  },
  {
   "cell_type": "code",
   "execution_count": null,
   "id": "adee76a5-fbe0-4ce1-b625-fea72a60b0ed",
   "metadata": {},
   "outputs": [],
   "source": [
    "# Display the descriptive statistics for the 'heart' dataframe\n",
    "heart.describe()"
   ]
  },
  {
   "cell_type": "code",
   "execution_count": null,
   "id": "ea6fe550-573a-40ec-ac4d-a683f6e973f9",
   "metadata": {},
   "outputs": [],
   "source": [
    "# Take a look at the descriptive statistics for the other categorical columns.\n",
    "heart.describe(include=['object'])"
   ]
  },
  {
   "cell_type": "markdown",
   "id": "3f78310f-f4d4-4817-b8f0-35c718c338e8",
   "metadata": {},
   "source": [
    "### Exploratory Data Analysis: Visualizations"
   ]
  },
  {
   "cell_type": "code",
   "execution_count": null,
   "id": "b8a785ef-9c48-4733-9f52-873f76ba78b2",
   "metadata": {},
   "outputs": [],
   "source": [
    "import matplotlib.pyplot as plt\n",
    "import seaborn as sns\n",
    "%matplotlib inline\n",
    "\n",
    "ax = sns.boxplot(x=\"age\", data=heart)\n",
    "plt.show()\n",
    "plt.clf()"
   ]
  },
  {
   "cell_type": "code",
   "execution_count": null,
   "id": "deb891c3-7d75-4d48-b57f-cf3596922f11",
   "metadata": {},
   "outputs": [],
   "source": [
    "ax = sns.countplot(x=\"sex\", data=heart)\n",
    "plt.show()\n",
    "plt.clf()"
   ]
  },
  {
   "cell_type": "code",
   "execution_count": null,
   "id": "b7aa5f73-cd52-4f63-9767-4f879ec7bcbc",
   "metadata": {},
   "outputs": [],
   "source": [
    "ax = sns.countplot(x=\"cp\", data=heart)\n",
    "plt.show()\n",
    "plt.clf()"
   ]
  },
  {
   "cell_type": "code",
   "execution_count": null,
   "id": "cccf5df3-186d-43e0-a3f8-d3309ce30725",
   "metadata": {},
   "outputs": [],
   "source": [
    "ax = sns.boxplot(x=\"trestbps\", data=heart)\n",
    "plt.show()\n",
    "plt.clf()"
   ]
  },
  {
   "cell_type": "code",
   "execution_count": null,
   "id": "bf0f0ab5-9862-4b59-8a9d-4b12fb8fe5eb",
   "metadata": {},
   "outputs": [],
   "source": [
    "ax = sns.boxplot(x=\"chol\", data=heart)\n",
    "plt.show()\n",
    "plt.clf()"
   ]
  },
  {
   "cell_type": "code",
   "execution_count": null,
   "id": "fde8406a-6383-47ea-b6a9-530d99ae5895",
   "metadata": {},
   "outputs": [],
   "source": [
    "ax = sns.countplot(x=\"fbs\", data=heart)\n",
    "plt.show()\n",
    "plt.clf()"
   ]
  },
  {
   "cell_type": "markdown",
   "id": "72d2388a-e2a7-420f-9fb3-cd4a048677b9",
   "metadata": {},
   "source": [
    "For fasting blood sugar, the majority are in the less than 120 mg/dl category (value 0)."
   ]
  },
  {
   "cell_type": "code",
   "execution_count": null,
   "id": "a62d5a8c-1995-4055-8b6b-8d486a97f2b5",
   "metadata": {},
   "outputs": [],
   "source": [
    "ax = sns.countplot(x=\"restecg\", data=heart)\n",
    "plt.show()\n",
    "plt.clf()"
   ]
  },
  {
   "cell_type": "code",
   "execution_count": null,
   "id": "8885a9e7-ef58-41ab-99d0-b4da94b3551f",
   "metadata": {},
   "outputs": [],
   "source": [
    "ax = sns.boxplot(x=\"thalach\", data=heart)\n",
    "plt.show()\n",
    "plt.clf()"
   ]
  },
  {
   "cell_type": "code",
   "execution_count": null,
   "id": "6ee52fd5-4527-423f-ae3a-2405b6c9725f",
   "metadata": {},
   "outputs": [],
   "source": [
    "ax = sns.countplot(x=\"exang\", data=heart)\n",
    "plt.show()\n",
    "plt.clf()"
   ]
  },
  {
   "cell_type": "markdown",
   "id": "97300212-8eb2-4306-b6fd-26bb7fa48beb",
   "metadata": {},
   "source": [
    "Around twice as many people did not have exercised induced angina."
   ]
  },
  {
   "cell_type": "code",
   "execution_count": null,
   "id": "d9aad0c0-8fcf-451a-8709-6b3b6c23a875",
   "metadata": {},
   "outputs": [],
   "source": [
    "ax = sns.boxplot(x=\"oldpeak\", data=heart)\n",
    "plt.show()\n",
    "plt.clf()"
   ]
  },
  {
   "cell_type": "code",
   "execution_count": null,
   "id": "08aec2b4-cf30-4c89-b491-dde51f25625c",
   "metadata": {},
   "outputs": [],
   "source": [
    "ax = sns.countplot(x=\"slope\", data=heart)\n",
    "plt.show()\n",
    "plt.clf()"
   ]
  },
  {
   "cell_type": "markdown",
   "id": "4c3b69f8-39bc-4311-af84-2ea44deee83c",
   "metadata": {},
   "source": [
    "The slope of the peak exercise ST segment for most subjects are **unsloping** (1) for **flat** (2)."
   ]
  },
  {
   "cell_type": "code",
   "execution_count": null,
   "id": "948cfa5d-793e-4c01-9f1a-7e0a29940a27",
   "metadata": {},
   "outputs": [],
   "source": [
    "ax = sns.countplot(x=\"ca\", data=heart)\n",
    "plt.show()\n",
    "plt.clf()"
   ]
  },
  {
   "cell_type": "code",
   "execution_count": null,
   "id": "b714e523-b2b5-479f-9e1f-01bc9e4ac550",
   "metadata": {},
   "outputs": [],
   "source": [
    "ax = sns.countplot(x=\"thal\", data=heart)\n",
    "plt.show()\n",
    "plt.clf()"
   ]
  },
  {
   "cell_type": "code",
   "execution_count": null,
   "id": "1964f190-1937-4b36-90c8-a34ce6507816",
   "metadata": {},
   "outputs": [],
   "source": [
    "ax = sns.countplot(x=\"present\", data=heart)\n",
    "plt.show()\n",
    "plt.clf()"
   ]
  },
  {
   "cell_type": "markdown",
   "id": "b13500c7-c7e2-47e6-9a87-8929a7ebe08f",
   "metadata": {},
   "source": [
    "### For each categorical column in the dataset, we now create a bar chart that displays the number of rows for each category of that column, grouped by the 'present'."
   ]
  },
  {
   "cell_type": "code",
   "execution_count": null,
   "id": "4544e7e3-260e-4eaf-95ee-880bdf9314a0",
   "metadata": {},
   "outputs": [],
   "source": [
    "ax = sns.countplot(x=\"sex\", data=heart, hue=\"present\")\n",
    "plt.show()\n",
    "plt.clf()"
   ]
  },
  {
   "cell_type": "markdown",
   "id": "1a31361e-e6f8-4c74-a609-1b0cc7f26a75",
   "metadata": {},
   "source": [
    "A lot more men than women have heart disease present."
   ]
  },
  {
   "cell_type": "code",
   "execution_count": null,
   "id": "c301f31e-729f-4b88-8971-d7a1d3d8b009",
   "metadata": {},
   "outputs": [],
   "source": [
    "ax = sns.countplot(x=\"cp\", data=heart, hue=\"present\")\n",
    "plt.show()\n",
    "plt.clf()"
   ]
  },
  {
   "cell_type": "markdown",
   "id": "9e4ffd15-c473-46e2-bbea-0dcd6e8dbad8",
   "metadata": {},
   "source": [
    "The majority of subjects with heart disease were asymptomatic (value 4), meaning that they did not have chest pain as a symptom."
   ]
  },
  {
   "cell_type": "code",
   "execution_count": null,
   "id": "304b3d3a-a2b1-4196-b7e3-92922de4514b",
   "metadata": {},
   "outputs": [],
   "source": [
    "ax = sns.countplot(x=\"fbs\", data=heart, hue=\"present\")\n",
    "plt.show()\n",
    "plt.clf()"
   ]
  },
  {
   "cell_type": "markdown",
   "id": "c41f8299-b5dd-4fbe-beac-ae463f8c1f5f",
   "metadata": {},
   "source": [
    "A high number of subjects with heart disease had a fasting blood sugar level greater than 120 mg/dl."
   ]
  },
  {
   "cell_type": "code",
   "execution_count": null,
   "id": "76aa6b92-ff65-482d-be7e-a55367866477",
   "metadata": {},
   "outputs": [],
   "source": [
    "ax = sns.countplot(x=\"restecg\", data=heart, hue=\"present\")\n",
    "plt.show()\n",
    "plt.clf()"
   ]
  },
  {
   "cell_type": "markdown",
   "id": "df416459-3ada-41ac-ba6b-22937c02e456",
   "metadata": {},
   "source": [
    "The presence of heart disease was high in categories 0 and 2."
   ]
  },
  {
   "cell_type": "code",
   "execution_count": null,
   "id": "46567195-cbe0-4350-ab16-95ed30f6e11b",
   "metadata": {},
   "outputs": [],
   "source": [
    "ax = sns.countplot(x=\"exang\", data=heart, hue=\"present\")\n",
    "plt.show()\n",
    "plt.clf()"
   ]
  },
  {
   "cell_type": "markdown",
   "id": "9cbe6316-4798-4f5b-b621-b7487778710c",
   "metadata": {},
   "source": [
    "Not that big a difference between the two categories in terms of the number of heart disease present."
   ]
  },
  {
   "cell_type": "code",
   "execution_count": null,
   "id": "6d13dbde-fdaf-4c6b-83e0-ef5d291e9e11",
   "metadata": {},
   "outputs": [],
   "source": [
    "ax = sns.countplot(x=\"slope\", data=heart, hue=\"present\")\n",
    "plt.show()\n",
    "plt.clf()"
   ]
  },
  {
   "cell_type": "markdown",
   "id": "2f19f296-4288-4585-8ab5-365d3b033927",
   "metadata": {},
   "source": [
    "The presence of heart disease was highest in category 2."
   ]
  },
  {
   "cell_type": "code",
   "execution_count": null,
   "id": "75a5b687-be24-4439-8b57-5e0811c21b44",
   "metadata": {},
   "outputs": [],
   "source": [
    "ax = sns.countplot(x=\"ca\", data=heart, hue=\"present\")\n",
    "plt.show()\n",
    "plt.clf()"
   ]
  },
  {
   "cell_type": "code",
   "execution_count": null,
   "id": "61ac4206-11a8-41b9-8a21-59ad8686a8e5",
   "metadata": {},
   "outputs": [],
   "source": [
    "ax = sns.countplot(x=\"thal\", data=heart, hue=\"present\")\n",
    "plt.show()\n",
    "plt.clf()"
   ]
  },
  {
   "cell_type": "markdown",
   "id": "e5b9c6f1-1e08-4431-80ca-9f646539a17e",
   "metadata": {},
   "source": [
    "#### Let's convert the categorical columns **ca** and **thal** into numerical columns."
   ]
  },
  {
   "cell_type": "code",
   "execution_count": null,
   "id": "8e492bf3-1aa2-44e4-89e2-c38e8a0c8b34",
   "metadata": {},
   "outputs": [],
   "source": [
    "# Make a copy of the heart dataframe\n",
    "heart_mod = heart.copy()"
   ]
  },
  {
   "cell_type": "code",
   "execution_count": null,
   "id": "2f6b9177-4755-410a-a918-7cd3b6b4d341",
   "metadata": {},
   "outputs": [],
   "source": [
    "# Get the value counts for the 'ca' column for checking purposes later on\n",
    "heart_mod['ca'].value_counts()"
   ]
  },
  {
   "cell_type": "code",
   "execution_count": null,
   "id": "08b2c9f3-9a0a-46af-8edb-b425f52ff9a1",
   "metadata": {},
   "outputs": [],
   "source": [
    "# One-hot encode the 'ca' column\n",
    "heart_mod = pd.get_dummies(data=heart_mod, columns=['ca'])\n",
    "\n",
    "heart_mod.head()"
   ]
  },
  {
   "cell_type": "code",
   "execution_count": null,
   "id": "050ed56b-c42c-4d31-a298-03d5b8bd635a",
   "metadata": {},
   "outputs": [],
   "source": [
    "# Get the value counts for the 'thal' column for checking purposes later on\n",
    "heart_mod['thal'].value_counts()"
   ]
  },
  {
   "cell_type": "code",
   "execution_count": null,
   "id": "b9bf4318-d812-4bbd-b343-5867ec1be99e",
   "metadata": {},
   "outputs": [],
   "source": []
  }
 ],
 "metadata": {
  "kernelspec": {
   "display_name": "Python 3 (ipykernel)",
   "language": "python",
   "name": "python3"
  },
  "language_info": {
   "codemirror_mode": {
    "name": "ipython",
    "version": 3
   },
   "file_extension": ".py",
   "mimetype": "text/x-python",
   "name": "python",
   "nbconvert_exporter": "python",
   "pygments_lexer": "ipython3",
   "version": "3.8.5"
  }
 },
 "nbformat": 4,
 "nbformat_minor": 5
}
