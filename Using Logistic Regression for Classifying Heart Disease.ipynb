{
 "cells": [
  {
   "cell_type": "markdown",
   "id": "8e4cf081-5a23-4265-a4f1-98989ce49133",
   "metadata": {},
   "source": [
    "# Using Logistic Regression for Classifying Heart Disease"
   ]
  },
  {
   "cell_type": "markdown",
   "id": "f294869e-8dac-454f-be0e-2bed877e59e4",
   "metadata": {},
   "source": [
    "## 1. Introduction"
   ]
  },
  {
   "cell_type": "markdown",
   "id": "80dafde4-31d5-4d34-bd6e-42f89de4cd6c",
   "metadata": {},
   "source": [
    "This is a guided project from Dataquest's course \"Logistic Regression Modeling in Python\"."
   ]
  },
  {
   "cell_type": "code",
   "execution_count": null,
<<<<<<< HEAD
   "id": "7852c91e-819a-458f-8108-6e979c3d6f1d",
=======
   "id": "17c21483-683a-4b23-a72d-5fee334d26dd",

   "cell_type": "code",
   "execution_count": null,
   "id": "9cb33355-25cd-4628-9eb6-ec3dc52fdd72",
>>>>>>> 8c378ba2b202161ed6ee7c240b690c837408bdde
   "metadata": {},
   "outputs": [],
   "source": []
  }
 ],
 "metadata": {
  "kernelspec": {
   "display_name": "Python 3 (ipykernel)",
   "language": "python",
   "name": "python3"
  },
  "language_info": {
   "codemirror_mode": {
    "name": "ipython",
    "version": 3
   },
   "file_extension": ".py",
   "mimetype": "text/x-python",
   "name": "python",
   "nbconvert_exporter": "python",
   "pygments_lexer": "ipython3",
   "version": "3.8.5"
  }
 },
 "nbformat": 4,
 "nbformat_minor": 5
}
