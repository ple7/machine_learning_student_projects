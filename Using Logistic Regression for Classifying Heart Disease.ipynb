{
 "cells": [
  {
   "cell_type": "markdown",
   "id": "f15d45da-8897-4ce4-958e-59281fd8d8da",
   "metadata": {},
   "source": [
    "# Using Logistic Regression for Classifying Heart Disease"
   ]
  },
  {
   "cell_type": "markdown",
   "id": "09a49599-b4a1-4a14-a448-957c364d4ba5",
   "metadata": {},
   "source": [
    "## 1. Introduction"
   ]
  },
  {
   "cell_type": "markdown",
   "id": "5aba1326-46da-45fd-ace2-a13ef181622d",
   "metadata": {},
   "source": [
    "This is a guided project from Dataquest's course \"Logistic Regression Modeling in Python\"."
   ]
  },
  {
   "cell_type": "code",
   "execution_count": null,
   "id": "f049cf56-570a-493f-828d-e0ab6e815451",
   "metadata": {},
   "outputs": [],
   "source": []
  }
 ],
 "metadata": {
  "kernelspec": {
   "display_name": "Python 3 (ipykernel)",
   "language": "python",
   "name": "python3"
  },
  "language_info": {
   "codemirror_mode": {
    "name": "ipython",
    "version": 3
   },
   "file_extension": ".py",
   "mimetype": "text/x-python",
   "name": "python",
   "nbconvert_exporter": "python",
   "pygments_lexer": "ipython3",
   "version": "3.8.5"
  }
 },
 "nbformat": 4,
 "nbformat_minor": 5
}
