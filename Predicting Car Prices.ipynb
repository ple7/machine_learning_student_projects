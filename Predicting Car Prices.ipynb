{
 "cells": [
  {
   "cell_type": "markdown",
   "id": "42d13c43",
   "metadata": {},
   "source": [
    "# Guided Project: Predicting Car Prices"
   ]
  },
  {
   "cell_type": "markdown",
   "id": "e468efb3",
   "metadata": {},
   "source": [
    "## 1. Introduction"
   ]
  },
  {
   "cell_type": "markdown",
   "id": "04ba1ff5",
   "metadata": {},
   "source": [
    "This is a guided project from Dataquest's \"Machine Learning Fundamentals\" course, which I completed as part of the \"Data Scientist in Python\" path."
   ]
  },
  {
   "cell_type": "markdown",
   "id": "864e3497",
   "metadata": {},
   "source": [
    "This guided project uses a car's attributes to predict its market price, and the aim is to get practise with the machine learning workflow. Information on the dataset can be found at this [site](https://archive.ics.uci.edu/ml/datasets/automobile), and it can be downloaded from [here](https://archive.ics.uci.edu/ml/machine-learning-databases/autos/imports-85.data). "
   ]
  },
  {
   "cell_type": "code",
   "execution_count": null,
   "id": "09fac0ee",
   "metadata": {},
   "outputs": [],
   "source": [
    "import pandas as pd\n",
    "import numpy as np"
   ]
  },
  {
   "cell_type": "code",
   "execution_count": null,
   "id": "30088dca",
   "metadata": {},
   "outputs": [],
   "source": []
  }
 ],
 "metadata": {
  "kernelspec": {
   "display_name": "Python 3 (ipykernel)",
   "language": "python",
   "name": "python3"
  },
  "language_info": {
   "codemirror_mode": {
    "name": "ipython",
    "version": 3
   },
   "file_extension": ".py",
   "mimetype": "text/x-python",
   "name": "python",
   "nbconvert_exporter": "python",
   "pygments_lexer": "ipython3",
   "version": "3.8.5"
  }
 },
 "nbformat": 4,
 "nbformat_minor": 5
}
