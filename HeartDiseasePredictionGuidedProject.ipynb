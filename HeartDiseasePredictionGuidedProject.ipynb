{
 "cells": [
  {
   "cell_type": "markdown",
   "id": "db020cb1",
   "metadata": {},
   "source": [
    "# Heart Disease Prediction Guided Project"
   ]
  },
  {
   "cell_type": "markdown",
   "id": "39784ee4",
   "metadata": {},
   "source": [
    "This is a guided project from Dataquest's course \"Introduction to Supervised Machine Learning in Python\"."
   ]
  },
  {
   "cell_type": "markdown",
   "id": "8a756df3",
   "metadata": {},
   "source": [
    "According to the World Health Organisation (WHO), an estimated 17.9 million people die each year from cardiovascular diseases. There are manifold risk factors that potentially contribute to cardiovascular diseases in a person, such as an unhealthy diet, lack of physical activity, and mental illness."
   ]
  },
  {
   "cell_type": "markdown",
   "id": "b53757bd",
   "metadata": {},
   "source": [
    "The [dataset](https://www.kaggle.com/datasets/fedesoriano/heart-failure-prediction) in this project contains relevant information for each patient, including their personal information, some medical data, and whether they have had heart disease. The aim is to use the dataset and write a k-Nearest-Neighbours machine learning model to accurately predict the likelihood of a new patient having heart disease in the future."
   ]
  },
  {
   "cell_type": "code",
   "execution_count": null,
   "id": "87246729",
   "metadata": {},
   "outputs": [],
   "source": []
  }
 ],
 "metadata": {
  "kernelspec": {
   "display_name": "Python 3 (ipykernel)",
   "language": "python",
   "name": "python3"
  },
  "language_info": {
   "codemirror_mode": {
    "name": "ipython",
    "version": 3
   },
   "file_extension": ".py",
   "mimetype": "text/x-python",
   "name": "python",
   "nbconvert_exporter": "python",
   "pygments_lexer": "ipython3",
   "version": "3.8.5"
  }
 },
 "nbformat": 4,
 "nbformat_minor": 5
}
