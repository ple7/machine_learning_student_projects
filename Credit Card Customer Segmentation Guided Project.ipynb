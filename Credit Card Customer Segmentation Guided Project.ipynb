{
 "cells": [
  {
   "cell_type": "markdown",
   "metadata": {},
   "source": [
    "# Credit Card Customer Segmentation Guided Project"
   ]
  },
  {
   "cell_type": "markdown",
   "metadata": {},
   "source": [
    "This is a guided project from Dataquest's course: \"Introduction to Unsupervised Machine Learning.\""
   ]
  },
  {
   "cell_type": "markdown",
   "metadata": {},
   "source": [
    "The dataset in this project contains information on a company's clients, and the aim is to segment them into diffrent groups so that different business strategies can be applied to each type of customer."
   ]
  },
  {
   "cell_type": "markdown",
   "metadata": {},
   "source": [
    "The K-means algorithm will be used to segment the data, and this is the data dictionary:\n",
    "\n",
    "* `customer_id`: unique identifier for each customer.\n",
    "* `age`: customer age in years.\n",
    "* `gender`: customer gender (M or F).\n",
    "* `dependent_count`: number of dependents of each customer.\n",
    "* `education_level`: level of education (\"High School\", \"Graduate\", etc.).\n",
    "* `marital_status`: marital status (\"Single\", \"Married\", etc.).\n",
    "* `estimated_income`: the estimated income for the customer projected by the data science team.\n",
    "* `months_on_book`: time as a customer in months.\n",
    "* `total_relationship_count`: number of times the customer contacted the company.\n",
    "* `months_inactive_12_mon`: number of months the customer did not use the credit card in the last 12 months.\n",
    "* `credit_limit`: customer's credit limit.\n",
    "* `total_trans_amount`: the overall amount of money spent on the card by the customer.\n",
    "* `total_trans_count`: the overall number of times the customer used the card.\n",
    "* `avg_utilization_ratio`: daily average utilization ratio. 0"
   ]
  },
  {
   "cell_type": "code",
   "execution_count": null,
   "metadata": {},
   "outputs": [],
   "source": []
  }
 ],
 "metadata": {
  "kernelspec": {
   "display_name": "Python 3 (ipykernel)",
   "language": "python",
   "name": "python3"
  },
  "language_info": {
   "codemirror_mode": {
    "name": "ipython",
    "version": 3
   },
   "file_extension": ".py",
   "mimetype": "text/x-python",
   "name": "python",
   "nbconvert_exporter": "python",
   "pygments_lexer": "ipython3",
   "version": "3.8.5"
  }
 },
 "nbformat": 4,
 "nbformat_minor": 4
}
