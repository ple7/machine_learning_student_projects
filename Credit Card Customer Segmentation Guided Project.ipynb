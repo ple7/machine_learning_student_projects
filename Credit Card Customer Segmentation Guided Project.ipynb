{
 "cells": [
  {
   "cell_type": "markdown",
   "metadata": {},
   "source": [
    "# Credit Card Customer Segmentation - Guided Project using the K-means algorithm"
   ]
  },
  {
   "cell_type": "markdown",
   "metadata": {},
   "source": [
    "This is a guided project from Dataquest's course: \"Introduction to Unsupervised Machine Learning.\""
   ]
  },
  {
   "cell_type": "markdown",
   "metadata": {},
   "source": [
    "The dataset in this project contains information on a company's clients, and the aim is to use the **K-means algorithm** to segment them into diffrent groups so that different business strategies can be applied to each type of customer."
   ]
  },
  {
   "cell_type": "markdown",
   "metadata": {},
   "source": [
    "This is the data dictionary:\n",
    "\n",
    "* `customer_id`: unique identifier for each customer.\n",
    "* `age`: customer age in years.\n",
    "* `gender`: customer gender (M or F).\n",
    "* `dependent_count`: number of dependents of each customer.\n",
    "* `education_level`: level of education (\"High School\", \"Graduate\", etc.).\n",
    "* `marital_status`: marital status (\"Single\", \"Married\", etc.).\n",
    "* `estimated_income`: the estimated income for the customer projected by the data science team.\n",
    "* `months_on_book`: time as a customer in months.\n",
    "* `total_relationship_count`: number of times the customer contacted the company.\n",
    "* `months_inactive_12_mon`: number of months the customer did not use the credit card in the last 12 months.\n",
    "* `credit_limit`: customer's credit limit.\n",
    "* `total_trans_amount`: the overall amount of money spent on the card by the customer.\n",
    "* `total_trans_count`: the overall number of times the customer used the card.\n",
    "* `avg_utilization_ratio`: daily average utilization ratio."
   ]
  },
  {
   "cell_type": "code",
   "execution_count": 1,
   "metadata": {},
   "outputs": [],
   "source": [
    "# Import relevant libraries for the project.\n",
    "import pandas as pd\n",
    "import numpy as np\n",
    "import matplotlib.pyplot as plt\n",
    "import seaborn as sns\n",
    "from sklearn.cluster import KMeans\n",
    "from sklearn.preprocessing import StandardScaler\n",
    "\n",
    "%matplotlib inline"
   ]
  },
  {
   "cell_type": "code",
   "execution_count": 2,
   "metadata": {},
   "outputs": [
    {
     "data": {
      "text/html": [
       "<div>\n",
       "<style scoped>\n",
       "    .dataframe tbody tr th:only-of-type {\n",
       "        vertical-align: middle;\n",
       "    }\n",
       "\n",
       "    .dataframe tbody tr th {\n",
       "        vertical-align: top;\n",
       "    }\n",
       "\n",
       "    .dataframe thead th {\n",
       "        text-align: right;\n",
       "    }\n",
       "</style>\n",
       "<table border=\"1\" class=\"dataframe\">\n",
       "  <thead>\n",
       "    <tr style=\"text-align: right;\">\n",
       "      <th></th>\n",
       "      <th>customer_id</th>\n",
       "      <th>age</th>\n",
       "      <th>gender</th>\n",
       "      <th>dependent_count</th>\n",
       "      <th>education_level</th>\n",
       "      <th>marital_status</th>\n",
       "      <th>estimated_income</th>\n",
       "      <th>months_on_book</th>\n",
       "      <th>total_relationship_count</th>\n",
       "      <th>months_inactive_12_mon</th>\n",
       "      <th>credit_limit</th>\n",
       "      <th>total_trans_amount</th>\n",
       "      <th>total_trans_count</th>\n",
       "      <th>avg_utilization_ratio</th>\n",
       "    </tr>\n",
       "  </thead>\n",
       "  <tbody>\n",
       "    <tr>\n",
       "      <th>0</th>\n",
       "      <td>768805383</td>\n",
       "      <td>45</td>\n",
       "      <td>M</td>\n",
       "      <td>3</td>\n",
       "      <td>High School</td>\n",
       "      <td>Married</td>\n",
       "      <td>69000</td>\n",
       "      <td>39</td>\n",
       "      <td>5</td>\n",
       "      <td>1</td>\n",
       "      <td>12691.0</td>\n",
       "      <td>1144</td>\n",
       "      <td>42</td>\n",
       "      <td>0.061</td>\n",
       "    </tr>\n",
       "    <tr>\n",
       "      <th>1</th>\n",
       "      <td>818770008</td>\n",
       "      <td>49</td>\n",
       "      <td>F</td>\n",
       "      <td>5</td>\n",
       "      <td>Graduate</td>\n",
       "      <td>Single</td>\n",
       "      <td>24000</td>\n",
       "      <td>44</td>\n",
       "      <td>6</td>\n",
       "      <td>1</td>\n",
       "      <td>8256.0</td>\n",
       "      <td>1291</td>\n",
       "      <td>33</td>\n",
       "      <td>0.105</td>\n",
       "    </tr>\n",
       "    <tr>\n",
       "      <th>2</th>\n",
       "      <td>713982108</td>\n",
       "      <td>51</td>\n",
       "      <td>M</td>\n",
       "      <td>3</td>\n",
       "      <td>Graduate</td>\n",
       "      <td>Married</td>\n",
       "      <td>93000</td>\n",
       "      <td>36</td>\n",
       "      <td>4</td>\n",
       "      <td>1</td>\n",
       "      <td>3418.0</td>\n",
       "      <td>1887</td>\n",
       "      <td>20</td>\n",
       "      <td>0.000</td>\n",
       "    </tr>\n",
       "    <tr>\n",
       "      <th>3</th>\n",
       "      <td>769911858</td>\n",
       "      <td>40</td>\n",
       "      <td>F</td>\n",
       "      <td>4</td>\n",
       "      <td>High School</td>\n",
       "      <td>Unknown</td>\n",
       "      <td>37000</td>\n",
       "      <td>34</td>\n",
       "      <td>3</td>\n",
       "      <td>4</td>\n",
       "      <td>3313.0</td>\n",
       "      <td>1171</td>\n",
       "      <td>20</td>\n",
       "      <td>0.760</td>\n",
       "    </tr>\n",
       "    <tr>\n",
       "      <th>4</th>\n",
       "      <td>709106358</td>\n",
       "      <td>40</td>\n",
       "      <td>M</td>\n",
       "      <td>3</td>\n",
       "      <td>Uneducated</td>\n",
       "      <td>Married</td>\n",
       "      <td>65000</td>\n",
       "      <td>21</td>\n",
       "      <td>5</td>\n",
       "      <td>1</td>\n",
       "      <td>4716.0</td>\n",
       "      <td>816</td>\n",
       "      <td>28</td>\n",
       "      <td>0.000</td>\n",
       "    </tr>\n",
       "  </tbody>\n",
       "</table>\n",
       "</div>"
      ],
      "text/plain": [
       "   customer_id  age gender  dependent_count education_level marital_status  \\\n",
       "0    768805383   45      M                3     High School        Married   \n",
       "1    818770008   49      F                5        Graduate         Single   \n",
       "2    713982108   51      M                3        Graduate        Married   \n",
       "3    769911858   40      F                4     High School        Unknown   \n",
       "4    709106358   40      M                3      Uneducated        Married   \n",
       "\n",
       "   estimated_income  months_on_book  total_relationship_count  \\\n",
       "0             69000              39                         5   \n",
       "1             24000              44                         6   \n",
       "2             93000              36                         4   \n",
       "3             37000              34                         3   \n",
       "4             65000              21                         5   \n",
       "\n",
       "   months_inactive_12_mon  credit_limit  total_trans_amount  \\\n",
       "0                       1       12691.0                1144   \n",
       "1                       1        8256.0                1291   \n",
       "2                       1        3418.0                1887   \n",
       "3                       4        3313.0                1171   \n",
       "4                       1        4716.0                 816   \n",
       "\n",
       "   total_trans_count  avg_utilization_ratio  \n",
       "0                 42                  0.061  \n",
       "1                 33                  0.105  \n",
       "2                 20                  0.000  \n",
       "3                 20                  0.760  \n",
       "4                 28                  0.000  "
      ]
     },
     "execution_count": 2,
     "metadata": {},
     "output_type": "execute_result"
    }
   ],
   "source": [
    "# Read the data into a dataframe.\n",
    "customers = pd.read_csv('customer_segmentation.csv')\n",
    "\n",
    "# Display the first 5 rows of the dataframe.\n",
    "customers.head()"
   ]
  },
  {
   "cell_type": "markdown",
   "metadata": {},
   "source": [
    "### Exploratory Data Analysis"
   ]
  },
  {
   "cell_type": "code",
   "execution_count": 3,
   "metadata": {},
   "outputs": [
    {
     "name": "stdout",
     "output_type": "stream",
     "text": [
      "<class 'pandas.core.frame.DataFrame'>\n",
      "RangeIndex: 10127 entries, 0 to 10126\n",
      "Data columns (total 14 columns):\n",
      " #   Column                    Non-Null Count  Dtype  \n",
      "---  ------                    --------------  -----  \n",
      " 0   customer_id               10127 non-null  int64  \n",
      " 1   age                       10127 non-null  int64  \n",
      " 2   gender                    10127 non-null  object \n",
      " 3   dependent_count           10127 non-null  int64  \n",
      " 4   education_level           10127 non-null  object \n",
      " 5   marital_status            10127 non-null  object \n",
      " 6   estimated_income          10127 non-null  int64  \n",
      " 7   months_on_book            10127 non-null  int64  \n",
      " 8   total_relationship_count  10127 non-null  int64  \n",
      " 9   months_inactive_12_mon    10127 non-null  int64  \n",
      " 10  credit_limit              10127 non-null  float64\n",
      " 11  total_trans_amount        10127 non-null  int64  \n",
      " 12  total_trans_count         10127 non-null  int64  \n",
      " 13  avg_utilization_ratio     10127 non-null  float64\n",
      "dtypes: float64(2), int64(9), object(3)\n",
      "memory usage: 1.1+ MB\n"
     ]
    }
   ],
   "source": [
    "customers.info()"
   ]
  },
  {
   "cell_type": "markdown",
   "metadata": {},
   "source": [
    "There are 10,127 rows and 14 columns in the dataset.\n",
    "\n",
    "The first column contains the a unique identifier for each customer, which won't be needed in the segmentation process. This means that we are left with 13 columns."
   ]
  },
  {
   "cell_type": "code",
   "execution_count": 4,
   "metadata": {},
   "outputs": [
    {
     "data": {
      "text/plain": [
       "int64      9\n",
       "object     3\n",
       "float64    2\n",
       "dtype: int64"
      ]
     },
     "execution_count": 4,
     "metadata": {},
     "output_type": "execute_result"
    }
   ],
   "source": [
    "# Count the column data types.\n",
    "customers.dtypes.value_counts()"
   ]
  },
  {
   "cell_type": "markdown",
   "metadata": {},
   "source": [
    "Ignoring the customer_id column, we have 8 columns containing integers, 3 columns of the string type, and two columns with floats. There 3 string columns are of categorical type (`gender`, `education_level`, and `marital_status`)."
   ]
  },
  {
   "cell_type": "code",
   "execution_count": 5,
   "metadata": {},
   "outputs": [
    {
     "data": {
      "text/plain": [
       "customer_id                 0\n",
       "age                         0\n",
       "gender                      0\n",
       "dependent_count             0\n",
       "education_level             0\n",
       "marital_status              0\n",
       "estimated_income            0\n",
       "months_on_book              0\n",
       "total_relationship_count    0\n",
       "months_inactive_12_mon      0\n",
       "credit_limit                0\n",
       "total_trans_amount          0\n",
       "total_trans_count           0\n",
       "avg_utilization_ratio       0\n",
       "dtype: int64"
      ]
     },
     "execution_count": 5,
     "metadata": {},
     "output_type": "execute_result"
    }
   ],
   "source": [
    "# Check for missing values\n",
    "customers.isna().sum()"
   ]
  },
  {
   "cell_type": "markdown",
   "metadata": {},
   "source": [
    "There are no missing values in any of the columns."
   ]
  },
  {
   "cell_type": "markdown",
   "metadata": {},
   "source": [
    "Let's create a Pearson's correlation heat map to explore how the columns correlate to one another."
   ]
  },
  {
   "cell_type": "code",
   "execution_count": 6,
   "metadata": {},
   "outputs": [
    {
     "data": {
      "text/plain": [
       "<AxesSubplot:>"
      ]
     },
     "execution_count": 6,
     "metadata": {},
     "output_type": "execute_result"
    },
    {
     "data": {
      "image/png": "[encoded data removed]",
      "text/plain": [
       "<Figure size 864x576 with 2 Axes>"
      ]
     },
     "metadata": {
      "needs_background": "light"
     },
     "output_type": "display_data"
    }
   ],
   "source": [
    "# Drop customer_id since we're not going to use it.\n",
    "customers_clean = customers.drop('customer_id', axis=1)\n",
    "\n",
    "correlations = customers_clean.corr()\n",
    "plt.figure(figsize=(12,8))\n",
    "sns.heatmap(correlations, annot=True, cmap='Greens')"
   ]
  },
  {
   "cell_type": "markdown",
   "metadata": {},
   "source": [
    "The following columns are correlated with each other (above or below arbitrary cutoff points of +/- 0.3):\n",
    "* `age` and `months_on_book` (positive);\n",
    "* `credit_limit` and `estimated_income` (positive);\n",
    "* `credit_limit` and `avg_utilization_ratio` (negative); \n",
    "* `total_trans_amount` and `total_trans_count`  (positive); and\n",
    "* `total_relationship_count` and `total_trans_amount` (negative)."
   ]
  },
  {
   "cell_type": "code",
   "execution_count": 7,
   "metadata": {},
   "outputs": [
    {
     "data": {
      "image/png": "[encoded data removed]",
      "text/plain": [
       "<Figure size 864x720 with 12 Axes>"
      ]
     },
     "metadata": {
      "needs_background": "light"
     },
     "output_type": "display_data"
    }
   ],
   "source": [
    "import warnings\n",
    "warnings.filterwarnings('ignore')\n",
    "\n",
    "# Plot the distribution of each numeric column\n",
    "fig, ax = plt.subplots(figsize=(12,10))\n",
    "\n",
    "customers_clean.hist(ax=ax)\n",
    "plt.show()"
   ]
  },
  {
   "cell_type": "markdown",
   "metadata": {},
   "source": [
    "The distribution of `age` and `credit_limit` appear close to being normal, while the rest look skewed."
   ]
  },
  {
   "cell_type": "code",
   "execution_count": 8,
   "metadata": {},
   "outputs": [
    {
     "name": "stdout",
     "output_type": "stream",
     "text": [
      "F    5358\n",
      "M    4769\n",
      "Name: gender, dtype: int64\n",
      "\n",
      "Graduate         3685\n",
      "High School      2351\n",
      "Uneducated       1755\n",
      "College          1192\n",
      "Post-Graduate     616\n",
      "Doctorate         528\n",
      "Name: education_level, dtype: int64\n",
      "\n",
      "Married     4687\n",
      "Single      3943\n",
      "Unknown      749\n",
      "Divorced     748\n",
      "Name: marital_status, dtype: int64\n",
      "\n"
     ]
    }
   ],
   "source": [
    "# Let's look at the categorical variables\n",
    "categorical_cols = ['gender', 'education_level', 'marital_status']\n",
    "\n",
    "for column in categorical_cols:\n",
    "    print(customers[column].value_counts(), end='\\n\\n')"
   ]
  },
  {
   "cell_type": "markdown",
   "metadata": {},
   "source": [
    "## 2. Feature Engineering"
   ]
  },
  {
   "cell_type": "markdown",
   "metadata": {},
   "source": [
    "There are three categorical columns: `gender`, `education_level`, and `marital_status`. We will now deal with them."
   ]
  },
  {
   "cell_type": "markdown",
   "metadata": {},
   "source": [
    "Let's first look at the gender and educational_level columns."
   ]
  },
  {
   "cell_type": "code",
   "execution_count": 9,
   "metadata": {},
   "outputs": [
    {
     "data": {
      "text/plain": [
       "F    5358\n",
       "M    4769\n",
       "Name: gender, dtype: int64"
      ]
     },
     "execution_count": 9,
     "metadata": {},
     "output_type": "execute_result"
    }
   ],
   "source": [
    "# Get the value counts for the 'gender' column\n",
    "customers['gender'].value_counts()"
   ]
  },
  {
   "cell_type": "code",
   "execution_count": 10,
   "metadata": {},
   "outputs": [
    {
     "data": {
      "text/plain": [
       "Graduate         3685\n",
       "High School      2351\n",
       "Uneducated       1755\n",
       "College          1192\n",
       "Post-Graduate     616\n",
       "Doctorate         528\n",
       "Name: education_level, dtype: int64"
      ]
     },
     "execution_count": 10,
     "metadata": {},
     "output_type": "execute_result"
    }
   ],
   "source": [
    "# Get the value counts for the 'educational_column' column\n",
    "customers['education_level'].value_counts()"
   ]
  },
  {
   "cell_type": "code",
   "execution_count": 11,
   "metadata": {},
   "outputs": [],
   "source": [
    "# Create a copy of the original 'customers' dataframe\n",
    "customers_modif = customers.copy()"
   ]
  },
  {
   "cell_type": "code",
   "execution_count": 12,
   "metadata": {},
   "outputs": [],
   "source": [
    "# Replace the values in the 'gender' column with 1 for 'M' and 0 for 'F'\n",
    "customers_modif['gender'] = customers_modif['gender'].apply(lambda x:1 if x=='M' else 0)"
   ]
  },
  {
   "cell_type": "code",
   "execution_count": 13,
   "metadata": {},
   "outputs": [
    {
     "data": {
      "text/plain": [
       "0    5358\n",
       "1    4769\n",
       "Name: gender, dtype: int64"
      ]
     },
     "execution_count": 13,
     "metadata": {},
     "output_type": "execute_result"
    }
   ],
   "source": [
    "# Check that the counts are still the same after the conversion\n",
    "customers_modif['gender'].value_counts()"
   ]
  },
  {
   "cell_type": "code",
   "execution_count": 14,
   "metadata": {},
   "outputs": [],
   "source": [
    "# Create a replacement mapping dictionary for the education_level column\n",
    "mapping = {\n",
    "    'Uneducated':0,\n",
    "    'High School':1,\n",
    "    'College':2,\n",
    "    'Graduate':3,\n",
    "    'Post-Graduate':4,\n",
    "    'Doctorate':5\n",
    "}\n",
    "\n",
    "customers_modif['education_level'] = customers_modif['education_level'].map(mapping)"
   ]
  },
  {
   "cell_type": "code",
   "execution_count": 15,
   "metadata": {},
   "outputs": [
    {
     "data": {
      "text/plain": [
       "0    1755\n",
       "1    2351\n",
       "2    1192\n",
       "3    3685\n",
       "4     616\n",
       "5     528\n",
       "Name: education_level, dtype: int64"
      ]
     },
     "execution_count": 15,
     "metadata": {},
     "output_type": "execute_result"
    }
   ],
   "source": [
    "# Check that the counts are still the same after the conversion\n",
    "customers_modif['education_level'].value_counts().sort_index()"
   ]
  },
  {
   "cell_type": "markdown",
   "metadata": {},
   "source": [
    "## 3. Feature Engineering - Part 2"
   ]
  },
  {
   "cell_type": "markdown",
   "metadata": {},
   "source": [
    "We will now deal with the third categorical column: marital_status column. Here, there is no level of magnitude between the categories \"Single\", \"Married\", \"Divorced\", and \"Unknown\", which means that we can't rank them objectively. We will, therefore, use one-hot-encoding to create dummy variables from this column."
   ]
  },
  {
   "cell_type": "code",
   "execution_count": 16,
   "metadata": {},
   "outputs": [
    {
     "data": {
      "text/html": [
       "<div>\n",
       "<style scoped>\n",
       "    .dataframe tbody tr th:only-of-type {\n",
       "        vertical-align: middle;\n",
       "    }\n",
       "\n",
       "    .dataframe tbody tr th {\n",
       "        vertical-align: top;\n",
       "    }\n",
       "\n",
       "    .dataframe thead th {\n",
       "        text-align: right;\n",
       "    }\n",
       "</style>\n",
       "<table border=\"1\" class=\"dataframe\">\n",
       "  <thead>\n",
       "    <tr style=\"text-align: right;\">\n",
       "      <th></th>\n",
       "      <th>customer_id</th>\n",
       "      <th>age</th>\n",
       "      <th>gender</th>\n",
       "      <th>dependent_count</th>\n",
       "      <th>education_level</th>\n",
       "      <th>estimated_income</th>\n",
       "      <th>months_on_book</th>\n",
       "      <th>total_relationship_count</th>\n",
       "      <th>months_inactive_12_mon</th>\n",
       "      <th>credit_limit</th>\n",
       "      <th>total_trans_amount</th>\n",
       "      <th>total_trans_count</th>\n",
       "      <th>avg_utilization_ratio</th>\n",
       "      <th>marital_status_Married</th>\n",
       "      <th>marital_status_Single</th>\n",
       "      <th>marital_status_Unknown</th>\n",
       "    </tr>\n",
       "  </thead>\n",
       "  <tbody>\n",
       "    <tr>\n",
       "      <th>0</th>\n",
       "      <td>768805383</td>\n",
       "      <td>45</td>\n",
       "      <td>1</td>\n",
       "      <td>3</td>\n",
       "      <td>1</td>\n",
       "      <td>69000</td>\n",
       "      <td>39</td>\n",
       "      <td>5</td>\n",
       "      <td>1</td>\n",
       "      <td>12691.0</td>\n",
       "      <td>1144</td>\n",
       "      <td>42</td>\n",
       "      <td>0.061</td>\n",
       "      <td>1</td>\n",
       "      <td>0</td>\n",
       "      <td>0</td>\n",
       "    </tr>\n",
       "    <tr>\n",
       "      <th>1</th>\n",
       "      <td>818770008</td>\n",
       "      <td>49</td>\n",
       "      <td>0</td>\n",
       "      <td>5</td>\n",
       "      <td>3</td>\n",
       "      <td>24000</td>\n",
       "      <td>44</td>\n",
       "      <td>6</td>\n",
       "      <td>1</td>\n",
       "      <td>8256.0</td>\n",
       "      <td>1291</td>\n",
       "      <td>33</td>\n",
       "      <td>0.105</td>\n",
       "      <td>0</td>\n",
       "      <td>1</td>\n",
       "      <td>0</td>\n",
       "    </tr>\n",
       "    <tr>\n",
       "      <th>2</th>\n",
       "      <td>713982108</td>\n",
       "      <td>51</td>\n",
       "      <td>1</td>\n",
       "      <td>3</td>\n",
       "      <td>3</td>\n",
       "      <td>93000</td>\n",
       "      <td>36</td>\n",
       "      <td>4</td>\n",
       "      <td>1</td>\n",
       "      <td>3418.0</td>\n",
       "      <td>1887</td>\n",
       "      <td>20</td>\n",
       "      <td>0.000</td>\n",
       "      <td>1</td>\n",
       "      <td>0</td>\n",
       "      <td>0</td>\n",
       "    </tr>\n",
       "    <tr>\n",
       "      <th>3</th>\n",
       "      <td>769911858</td>\n",
       "      <td>40</td>\n",
       "      <td>0</td>\n",
       "      <td>4</td>\n",
       "      <td>1</td>\n",
       "      <td>37000</td>\n",
       "      <td>34</td>\n",
       "      <td>3</td>\n",
       "      <td>4</td>\n",
       "      <td>3313.0</td>\n",
       "      <td>1171</td>\n",
       "      <td>20</td>\n",
       "      <td>0.760</td>\n",
       "      <td>0</td>\n",
       "      <td>0</td>\n",
       "      <td>1</td>\n",
       "    </tr>\n",
       "    <tr>\n",
       "      <th>4</th>\n",
       "      <td>709106358</td>\n",
       "      <td>40</td>\n",
       "      <td>1</td>\n",
       "      <td>3</td>\n",
       "      <td>0</td>\n",
       "      <td>65000</td>\n",
       "      <td>21</td>\n",
       "      <td>5</td>\n",
       "      <td>1</td>\n",
       "      <td>4716.0</td>\n",
       "      <td>816</td>\n",
       "      <td>28</td>\n",
       "      <td>0.000</td>\n",
       "      <td>1</td>\n",
       "      <td>0</td>\n",
       "      <td>0</td>\n",
       "    </tr>\n",
       "  </tbody>\n",
       "</table>\n",
       "</div>"
      ],
      "text/plain": [
       "   customer_id  age  gender  dependent_count  education_level  \\\n",
       "0    768805383   45       1                3                1   \n",
       "1    818770008   49       0                5                3   \n",
       "2    713982108   51       1                3                3   \n",
       "3    769911858   40       0                4                1   \n",
       "4    709106358   40       1                3                0   \n",
       "\n",
       "   estimated_income  months_on_book  total_relationship_count  \\\n",
       "0             69000              39                         5   \n",
       "1             24000              44                         6   \n",
       "2             93000              36                         4   \n",
       "3             37000              34                         3   \n",
       "4             65000              21                         5   \n",
       "\n",
       "   months_inactive_12_mon  credit_limit  total_trans_amount  \\\n",
       "0                       1       12691.0                1144   \n",
       "1                       1        8256.0                1291   \n",
       "2                       1        3418.0                1887   \n",
       "3                       4        3313.0                1171   \n",
       "4                       1        4716.0                 816   \n",
       "\n",
       "   total_trans_count  avg_utilization_ratio  marital_status_Married  \\\n",
       "0                 42                  0.061                       1   \n",
       "1                 33                  0.105                       0   \n",
       "2                 20                  0.000                       1   \n",
       "3                 20                  0.760                       0   \n",
       "4                 28                  0.000                       1   \n",
       "\n",
       "   marital_status_Single  marital_status_Unknown  \n",
       "0                      0                       0  \n",
       "1                      1                       0  \n",
       "2                      0                       0  \n",
       "3                      0                       1  \n",
       "4                      0                       0  "
      ]
     },
     "execution_count": 16,
     "metadata": {},
     "output_type": "execute_result"
    }
   ],
   "source": [
    "# Perform one-hot-encoding\n",
    "customers_modif = pd.get_dummies(data=customers_modif, columns=['marital_status'], drop_first=True)\n",
    "customers_modif.head()"
   ]
  },
  {
   "cell_type": "markdown",
   "metadata": {},
   "source": [
    "## 4. Scaling the Data"
   ]
  },
  {
   "cell_type": "markdown",
   "metadata": {},
   "source": [
    "We now need to transform the data so they're all on the same scale."
   ]
  },
  {
   "cell_type": "code",
   "execution_count": 17,
   "metadata": {},
   "outputs": [],
   "source": [
    "# We need to drop the customer_id column since we're not going to use it\n",
    "customers_modif = customers_modif.drop('customer_id', axis=1)"
   ]
  },
  {
   "cell_type": "code",
   "execution_count": 18,
   "metadata": {},
   "outputs": [
    {
     "name": "stdout",
     "output_type": "stream",
     "text": [
      "[[-0.16540558  1.05995565  0.50336813 -0.75221102  0.1758098   0.38462088\n",
      "   0.76394261 -1.32713603  0.4466219  -0.95970657 -0.97389518 -0.77588223\n",
      "   1.07733799 -0.79850685 -0.28260887]\n",
      " [ 0.33357038 -0.9434357   2.04319867  0.66278684 -0.96716585  1.01071482\n",
      "   1.40730617 -1.32713603 -0.04136665 -0.91643261 -1.35734038 -0.61627565\n",
      "  -0.92821381  1.2523374  -0.28260887]\n",
      " [ 0.58305837  1.05995565  0.50336813  0.66278684  0.78539682  0.00896451\n",
      "   0.12057905 -1.32713603 -0.5736978  -0.74098169 -1.91120566 -0.99715499\n",
      "   1.07733799 -0.79850685 -0.28260887]\n",
      " [-0.78912553 -0.9434357   1.2732834  -0.75221102 -0.63697289 -0.24147306\n",
      "  -0.52278451  1.64147829 -0.58525108 -0.95175829 -1.91120566  1.75968594\n",
      "  -0.92821381 -0.79850685  3.53845931]\n",
      " [-0.78912553  1.05995565  0.50336813 -1.45970995  0.07421197 -1.86931731\n",
      "   0.76394261 -1.32713603 -0.43087725 -1.05626345 -1.57036549 -0.99715499\n",
      "   1.07733799 -0.79850685 -0.28260887]]\n"
     ]
    }
   ],
   "source": [
    "# Instantiate a StandardScaler() class and fit the new dataframe\n",
    "scaler = StandardScaler()\n",
    "scaler.fit(customers_modif)\n",
    "\n",
    "customers_scaled = scaler.transform(customers_modif)\n",
    "print(customers_scaled[:5])"
   ]
  },
  {
   "cell_type": "code",
   "execution_count": 19,
   "metadata": {},
   "outputs": [],
   "source": [
    "# Since the outcome of the scaler is an array, we need to transform it back into a dataframe\n",
    "X = pd.DataFrame(customers_scaled)"
   ]
  },
  {
   "cell_type": "markdown",
   "metadata": {},
   "source": [
    "## 5. Choosing K"
   ]
  },
  {
   "cell_type": "markdown",
   "metadata": {},
   "source": [
    "The next step is to work out the best number of clusters to use in the segmentation according to the inertia metric."
   ]
  },
  {
   "cell_type": "markdown",
   "metadata": {},
   "source": [
    "We need to create a few models and compute the inertia from each. Then, we'll plot the Elbow Curve and decide on the number of clusters to use for segmenting the customers."
   ]
  },
  {
   "cell_type": "code",
   "execution_count": 20,
   "metadata": {},
   "outputs": [
    {
     "data": {
      "image/png": "[encoded data removed]",
      "text/plain": [
       "<Figure size 864x576 with 1 Axes>"
      ]
     },
     "metadata": {
      "needs_background": "light"
     },
     "output_type": "display_data"
    }
   ],
   "source": [
    "# Create an empty list to store the inertia from every model\n",
    "inertias = []\n",
    "\n",
    "for k in range(1, 11):\n",
    "    model = KMeans(n_clusters=k)\n",
    "    clusters = model.fit_predict(X)\n",
    "    inertias.append(model.inertia_)\n",
    "    \n",
    "# Use the inertias list to plot the elbow curve\n",
    "plt.figure(figsize=(12, 8))\n",
    "plt.plot(range(1, 11), inertias, marker='o')\n",
    "plt.xticks(ticks=range(1, 11), labels=range(1, 11))\n",
    "plt.title('Inertia vs Number of Clusters')\n",
    "plt.show()"
   ]
  },
  {
   "cell_type": "markdown",
   "metadata": {},
   "source": [
    "From the graph above, the rate in the decrease of inertia starts to slow down when the number of clusters is 5. So, we will now use 5 clusters."
   ]
  },
  {
   "cell_type": "code",
   "execution_count": 21,
   "metadata": {},
   "outputs": [
    {
     "name": "stdout",
     "output_type": "stream",
     "text": [
      "[3 2 3 ... 4 1 4]\n"
     ]
    }
   ],
   "source": [
    "model = KMeans(n_clusters=5)\n",
    "clusters = model.fit_predict(X)\n",
    "print(clusters)"
   ]
  },
  {
   "cell_type": "markdown",
   "metadata": {},
   "source": [
    "## 6. Analysing Results"
   ]
  },
  {
   "cell_type": "markdown",
   "metadata": {},
   "source": [
    "To better understand what each cluster represents, we need to see how the variables used in the clusterisation differ from cluster to cluster."
   ]
  },
  {
   "cell_type": "code",
   "execution_count": 22,
   "metadata": {},
   "outputs": [
    {
     "data": {
      "text/html": [
       "<div>\n",
       "<style scoped>\n",
       "    .dataframe tbody tr th:only-of-type {\n",
       "        vertical-align: middle;\n",
       "    }\n",
       "\n",
       "    .dataframe tbody tr th {\n",
       "        vertical-align: top;\n",
       "    }\n",
       "\n",
       "    .dataframe thead th {\n",
       "        text-align: right;\n",
       "    }\n",
       "</style>\n",
       "<table border=\"1\" class=\"dataframe\">\n",
       "  <thead>\n",
       "    <tr style=\"text-align: right;\">\n",
       "      <th></th>\n",
       "      <th>customer_id</th>\n",
       "      <th>age</th>\n",
       "      <th>gender</th>\n",
       "      <th>dependent_count</th>\n",
       "      <th>education_level</th>\n",
       "      <th>marital_status</th>\n",
       "      <th>estimated_income</th>\n",
       "      <th>months_on_book</th>\n",
       "      <th>total_relationship_count</th>\n",
       "      <th>months_inactive_12_mon</th>\n",
       "      <th>credit_limit</th>\n",
       "      <th>total_trans_amount</th>\n",
       "      <th>total_trans_count</th>\n",
       "      <th>avg_utilization_ratio</th>\n",
       "      <th>CLUSTER</th>\n",
       "    </tr>\n",
       "  </thead>\n",
       "  <tbody>\n",
       "    <tr>\n",
       "      <th>0</th>\n",
       "      <td>768805383</td>\n",
       "      <td>45</td>\n",
       "      <td>M</td>\n",
       "      <td>3</td>\n",
       "      <td>High School</td>\n",
       "      <td>Married</td>\n",
       "      <td>69000</td>\n",
       "      <td>39</td>\n",
       "      <td>5</td>\n",
       "      <td>1</td>\n",
       "      <td>12691.0</td>\n",
       "      <td>1144</td>\n",
       "      <td>42</td>\n",
       "      <td>0.061</td>\n",
       "      <td>4</td>\n",
       "    </tr>\n",
       "    <tr>\n",
       "      <th>1</th>\n",
       "      <td>818770008</td>\n",
       "      <td>49</td>\n",
       "      <td>F</td>\n",
       "      <td>5</td>\n",
       "      <td>Graduate</td>\n",
       "      <td>Single</td>\n",
       "      <td>24000</td>\n",
       "      <td>44</td>\n",
       "      <td>6</td>\n",
       "      <td>1</td>\n",
       "      <td>8256.0</td>\n",
       "      <td>1291</td>\n",
       "      <td>33</td>\n",
       "      <td>0.105</td>\n",
       "      <td>3</td>\n",
       "    </tr>\n",
       "    <tr>\n",
       "      <th>2</th>\n",
       "      <td>713982108</td>\n",
       "      <td>51</td>\n",
       "      <td>M</td>\n",
       "      <td>3</td>\n",
       "      <td>Graduate</td>\n",
       "      <td>Married</td>\n",
       "      <td>93000</td>\n",
       "      <td>36</td>\n",
       "      <td>4</td>\n",
       "      <td>1</td>\n",
       "      <td>3418.0</td>\n",
       "      <td>1887</td>\n",
       "      <td>20</td>\n",
       "      <td>0.000</td>\n",
       "      <td>4</td>\n",
       "    </tr>\n",
       "    <tr>\n",
       "      <th>3</th>\n",
       "      <td>769911858</td>\n",
       "      <td>40</td>\n",
       "      <td>F</td>\n",
       "      <td>4</td>\n",
       "      <td>High School</td>\n",
       "      <td>Unknown</td>\n",
       "      <td>37000</td>\n",
       "      <td>34</td>\n",
       "      <td>3</td>\n",
       "      <td>4</td>\n",
       "      <td>3313.0</td>\n",
       "      <td>1171</td>\n",
       "      <td>20</td>\n",
       "      <td>0.760</td>\n",
       "      <td>2</td>\n",
       "    </tr>\n",
       "    <tr>\n",
       "      <th>4</th>\n",
       "      <td>709106358</td>\n",
       "      <td>40</td>\n",
       "      <td>M</td>\n",
       "      <td>3</td>\n",
       "      <td>Uneducated</td>\n",
       "      <td>Married</td>\n",
       "      <td>65000</td>\n",
       "      <td>21</td>\n",
       "      <td>5</td>\n",
       "      <td>1</td>\n",
       "      <td>4716.0</td>\n",
       "      <td>816</td>\n",
       "      <td>28</td>\n",
       "      <td>0.000</td>\n",
       "      <td>5</td>\n",
       "    </tr>\n",
       "    <tr>\n",
       "      <th>...</th>\n",
       "      <td>...</td>\n",
       "      <td>...</td>\n",
       "      <td>...</td>\n",
       "      <td>...</td>\n",
       "      <td>...</td>\n",
       "      <td>...</td>\n",
       "      <td>...</td>\n",
       "      <td>...</td>\n",
       "      <td>...</td>\n",
       "      <td>...</td>\n",
       "      <td>...</td>\n",
       "      <td>...</td>\n",
       "      <td>...</td>\n",
       "      <td>...</td>\n",
       "      <td>...</td>\n",
       "    </tr>\n",
       "    <tr>\n",
       "      <th>10122</th>\n",
       "      <td>772366833</td>\n",
       "      <td>50</td>\n",
       "      <td>M</td>\n",
       "      <td>2</td>\n",
       "      <td>Graduate</td>\n",
       "      <td>Single</td>\n",
       "      <td>51000</td>\n",
       "      <td>40</td>\n",
       "      <td>3</td>\n",
       "      <td>2</td>\n",
       "      <td>4003.0</td>\n",
       "      <td>15476</td>\n",
       "      <td>117</td>\n",
       "      <td>0.462</td>\n",
       "      <td>1</td>\n",
       "    </tr>\n",
       "    <tr>\n",
       "      <th>10123</th>\n",
       "      <td>710638233</td>\n",
       "      <td>41</td>\n",
       "      <td>M</td>\n",
       "      <td>2</td>\n",
       "      <td>Graduate</td>\n",
       "      <td>Divorced</td>\n",
       "      <td>40000</td>\n",
       "      <td>25</td>\n",
       "      <td>4</td>\n",
       "      <td>2</td>\n",
       "      <td>4277.0</td>\n",
       "      <td>8764</td>\n",
       "      <td>69</td>\n",
       "      <td>0.511</td>\n",
       "      <td>3</td>\n",
       "    </tr>\n",
       "    <tr>\n",
       "      <th>10124</th>\n",
       "      <td>716506083</td>\n",
       "      <td>44</td>\n",
       "      <td>F</td>\n",
       "      <td>1</td>\n",
       "      <td>High School</td>\n",
       "      <td>Married</td>\n",
       "      <td>33000</td>\n",
       "      <td>36</td>\n",
       "      <td>5</td>\n",
       "      <td>3</td>\n",
       "      <td>5409.0</td>\n",
       "      <td>10291</td>\n",
       "      <td>60</td>\n",
       "      <td>0.000</td>\n",
       "      <td>5</td>\n",
       "    </tr>\n",
       "    <tr>\n",
       "      <th>10125</th>\n",
       "      <td>717406983</td>\n",
       "      <td>30</td>\n",
       "      <td>M</td>\n",
       "      <td>2</td>\n",
       "      <td>Graduate</td>\n",
       "      <td>Unknown</td>\n",
       "      <td>47000</td>\n",
       "      <td>36</td>\n",
       "      <td>4</td>\n",
       "      <td>3</td>\n",
       "      <td>5281.0</td>\n",
       "      <td>8395</td>\n",
       "      <td>62</td>\n",
       "      <td>0.000</td>\n",
       "      <td>2</td>\n",
       "    </tr>\n",
       "    <tr>\n",
       "      <th>10126</th>\n",
       "      <td>714337233</td>\n",
       "      <td>43</td>\n",
       "      <td>F</td>\n",
       "      <td>2</td>\n",
       "      <td>Graduate</td>\n",
       "      <td>Married</td>\n",
       "      <td>36000</td>\n",
       "      <td>25</td>\n",
       "      <td>6</td>\n",
       "      <td>2</td>\n",
       "      <td>10388.0</td>\n",
       "      <td>10294</td>\n",
       "      <td>61</td>\n",
       "      <td>0.189</td>\n",
       "      <td>5</td>\n",
       "    </tr>\n",
       "  </tbody>\n",
       "</table>\n",
       "<p>10127 rows × 15 columns</p>\n",
       "</div>"
      ],
      "text/plain": [
       "       customer_id  age gender  dependent_count education_level  \\\n",
       "0        768805383   45      M                3     High School   \n",
       "1        818770008   49      F                5        Graduate   \n",
       "2        713982108   51      M                3        Graduate   \n",
       "3        769911858   40      F                4     High School   \n",
       "4        709106358   40      M                3      Uneducated   \n",
       "...            ...  ...    ...              ...             ...   \n",
       "10122    772366833   50      M                2        Graduate   \n",
       "10123    710638233   41      M                2        Graduate   \n",
       "10124    716506083   44      F                1     High School   \n",
       "10125    717406983   30      M                2        Graduate   \n",
       "10126    714337233   43      F                2        Graduate   \n",
       "\n",
       "      marital_status  estimated_income  months_on_book  \\\n",
       "0            Married             69000              39   \n",
       "1             Single             24000              44   \n",
       "2            Married             93000              36   \n",
       "3            Unknown             37000              34   \n",
       "4            Married             65000              21   \n",
       "...              ...               ...             ...   \n",
       "10122         Single             51000              40   \n",
       "10123       Divorced             40000              25   \n",
       "10124        Married             33000              36   \n",
       "10125        Unknown             47000              36   \n",
       "10126        Married             36000              25   \n",
       "\n",
       "       total_relationship_count  months_inactive_12_mon  credit_limit  \\\n",
       "0                             5                       1       12691.0   \n",
       "1                             6                       1        8256.0   \n",
       "2                             4                       1        3418.0   \n",
       "3                             3                       4        3313.0   \n",
       "4                             5                       1        4716.0   \n",
       "...                         ...                     ...           ...   \n",
       "10122                         3                       2        4003.0   \n",
       "10123                         4                       2        4277.0   \n",
       "10124                         5                       3        5409.0   \n",
       "10125                         4                       3        5281.0   \n",
       "10126                         6                       2       10388.0   \n",
       "\n",
       "       total_trans_amount  total_trans_count  avg_utilization_ratio  CLUSTER  \n",
       "0                    1144                 42                  0.061        4  \n",
       "1                    1291                 33                  0.105        3  \n",
       "2                    1887                 20                  0.000        4  \n",
       "3                    1171                 20                  0.760        2  \n",
       "4                     816                 28                  0.000        5  \n",
       "...                   ...                ...                    ...      ...  \n",
       "10122               15476                117                  0.462        1  \n",
       "10123                8764                 69                  0.511        3  \n",
       "10124               10291                 60                  0.000        5  \n",
       "10125                8395                 62                  0.000        2  \n",
       "10126               10294                 61                  0.189        5  \n",
       "\n",
       "[10127 rows x 15 columns]"
      ]
     },
     "execution_count": 22,
     "metadata": {},
     "output_type": "execute_result"
    }
   ],
   "source": [
    "# Create a new column in the original customers dataframe containing the cluster assigned to each customer by the algorithm\n",
    "customers['CLUSTER'] = clusters + 1\n",
    "customers"
   ]
  },
  {
   "cell_type": "code",
   "execution_count": 23,
   "metadata": {},
   "outputs": [
    {
     "data": {
      "text/plain": [
       "5    3435\n",
       "3    2991\n",
       "4    2000\n",
       "1     971\n",
       "2     730\n",
       "Name: CLUSTER, dtype: int64"
      ]
     },
     "execution_count": 23,
     "metadata": {},
     "output_type": "execute_result"
    }
   ],
   "source": [
    "customers['CLUSTER'].value_counts()"
   ]
  },
  {
   "cell_type": "markdown",
   "metadata": {},
   "source": [
    "Cluster 1 is the largest cluster and 5 is the smallest cluster."
   ]
  },
  {
   "cell_type": "markdown",
   "metadata": {},
   "source": [
    "We'll now analyse the numerical variables and see how they behave in each cluster."
   ]
  },
  {
   "cell_type": "markdown",
   "metadata": {},
   "source": [
    "To analyse the numerical variables and see how they behave in each cluster, we will use the `groupby` method to group each column in the `customers` dataframe by the `CLUSTER` column, and take the average.\n",
    "\n",
    "We will then plot a bar chart for each column where each bar is the average of the column for a cluster."
   ]
  },
  {
   "cell_type": "code",
   "execution_count": 24,
   "metadata": {},
   "outputs": [
    {
     "data": {
      "image/png": "[encoded data removed]",
      "text/plain": [
       "<Figure size 1440x1440 with 10 Axes>"
      ]
     },
     "metadata": {
      "needs_background": "light"
     },
     "output_type": "display_data"
    }
   ],
   "source": [
    "# Get the numeric columns\n",
    "numeric_columns = customers.select_dtypes(include=np.number).drop(['customer_id', 'CLUSTER'], axis=1).columns\n",
    "\n",
    "fig = plt.figure(figsize=(20, 20))\n",
    "for i, column in enumerate(numeric_columns):\n",
    "    df_plot = customers.groupby('CLUSTER')[column].mean()\n",
    "    ax = fig.add_subplot(5, 2, i+1)\n",
    "    ax.bar(df_plot.index, df_plot, color=sns.color_palette('Set1'),  alpha=0.5)\n",
    "    ax.set_title(f'Average {column.title()} per cluster')\n",
    "\n",
    "plt.tight_layout()\n",
    "plt.show()"
   ]
  },
  {
   "cell_type": "code",
   "execution_count": null,
   "metadata": {},
   "outputs": [],
   "source": []
  }
 ],
 "metadata": {
  "kernelspec": {
   "display_name": "Python 3 (ipykernel)",
   "language": "python",
   "name": "python3"
  },
  "language_info": {
   "codemirror_mode": {
    "name": "ipython",
    "version": 3
   },
   "file_extension": ".py",
   "mimetype": "text/x-python",
   "name": "python",
   "nbconvert_exporter": "python",
   "pygments_lexer": "ipython3",
   "version": "3.8.5"
  }
 },
 "nbformat": 4,
 "nbformat_minor": 4
}
