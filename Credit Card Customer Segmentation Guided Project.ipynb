{
 "cells": [
  {
   "cell_type": "markdown",
   "metadata": {},
   "source": [
    "# Credit Card Customer Segmentation - Guided Project using the K-means algorithm"
   ]
  },
  {
   "cell_type": "markdown",
   "metadata": {},
   "source": [
    "This is a guided project from Dataquest's course: \"Introduction to Unsupervised Machine Learning.\""
   ]
  },
  {
   "cell_type": "markdown",
   "metadata": {},
   "source": [
    "The dataset in this project contains information on a company's clients, and the aim is to use the **K-means algorithm** to segment them into diffrent groups so that different business strategies can be applied to each type of customer."
   ]
  },
  {
   "cell_type": "markdown",
   "metadata": {},
   "source": [
    "This is the data dictionary:\n",
    "\n",
    "* `customer_id`: unique identifier for each customer.\n",
    "* `age`: customer age in years.\n",
    "* `gender`: customer gender (M or F).\n",
    "* `dependent_count`: number of dependents of each customer.\n",
    "* `education_level`: level of education (\"High School\", \"Graduate\", etc.).\n",
    "* `marital_status`: marital status (\"Single\", \"Married\", etc.).\n",
    "* `estimated_income`: the estimated income for the customer projected by the data science team.\n",
    "* `months_on_book`: time as a customer in months.\n",
    "* `total_relationship_count`: number of times the customer contacted the company.\n",
    "* `months_inactive_12_mon`: number of months the customer did not use the credit card in the last 12 months.\n",
    "* `credit_limit`: customer's credit limit.\n",
    "* `total_trans_amount`: the overall amount of money spent on the card by the customer.\n",
    "* `total_trans_count`: the overall number of times the customer used the card.\n",
    "* `avg_utilization_ratio`: daily average utilization ratio."
   ]
  },
  {
   "cell_type": "code",
   "execution_count": 1,
   "metadata": {},
   "outputs": [],
   "source": [
    "# Import relevant libraries for the project.\n",
    "import pandas as pd\n",
    "import numpy as np\n",
    "import matplotlib.pyplot as plt\n",
    "import seaborn as sns\n",
    "from sklearn.cluster import KMeans\n",
    "from sklearn.preprocessing import StandardScaler\n",
    "\n",
    "%matplotlib inline"
   ]
  },
  {
   "cell_type": "code",
   "execution_count": 2,
   "metadata": {},
   "outputs": [
    {
     "data": {
      "text/html": [
       "<div>\n",
       "<style scoped>\n",
       "    .dataframe tbody tr th:only-of-type {\n",
       "        vertical-align: middle;\n",
       "    }\n",
       "\n",
       "    .dataframe tbody tr th {\n",
       "        vertical-align: top;\n",
       "    }\n",
       "\n",
       "    .dataframe thead th {\n",
       "        text-align: right;\n",
       "    }\n",
       "</style>\n",
       "<table border=\"1\" class=\"dataframe\">\n",
       "  <thead>\n",
       "    <tr style=\"text-align: right;\">\n",
       "      <th></th>\n",
       "      <th>customer_id</th>\n",
       "      <th>age</th>\n",
       "      <th>gender</th>\n",
       "      <th>dependent_count</th>\n",
       "      <th>education_level</th>\n",
       "      <th>marital_status</th>\n",
       "      <th>estimated_income</th>\n",
       "      <th>months_on_book</th>\n",
       "      <th>total_relationship_count</th>\n",
       "      <th>months_inactive_12_mon</th>\n",
       "      <th>credit_limit</th>\n",
       "      <th>total_trans_amount</th>\n",
       "      <th>total_trans_count</th>\n",
       "      <th>avg_utilization_ratio</th>\n",
       "    </tr>\n",
       "  </thead>\n",
       "  <tbody>\n",
       "    <tr>\n",
       "      <th>0</th>\n",
       "      <td>768805383</td>\n",
       "      <td>45</td>\n",
       "      <td>M</td>\n",
       "      <td>3</td>\n",
       "      <td>High School</td>\n",
       "      <td>Married</td>\n",
       "      <td>69000</td>\n",
       "      <td>39</td>\n",
       "      <td>5</td>\n",
       "      <td>1</td>\n",
       "      <td>12691.0</td>\n",
       "      <td>1144</td>\n",
       "      <td>42</td>\n",
       "      <td>0.061</td>\n",
       "    </tr>\n",
       "    <tr>\n",
       "      <th>1</th>\n",
       "      <td>818770008</td>\n",
       "      <td>49</td>\n",
       "      <td>F</td>\n",
       "      <td>5</td>\n",
       "      <td>Graduate</td>\n",
       "      <td>Single</td>\n",
       "      <td>24000</td>\n",
       "      <td>44</td>\n",
       "      <td>6</td>\n",
       "      <td>1</td>\n",
       "      <td>8256.0</td>\n",
       "      <td>1291</td>\n",
       "      <td>33</td>\n",
       "      <td>0.105</td>\n",
       "    </tr>\n",
       "    <tr>\n",
       "      <th>2</th>\n",
       "      <td>713982108</td>\n",
       "      <td>51</td>\n",
       "      <td>M</td>\n",
       "      <td>3</td>\n",
       "      <td>Graduate</td>\n",
       "      <td>Married</td>\n",
       "      <td>93000</td>\n",
       "      <td>36</td>\n",
       "      <td>4</td>\n",
       "      <td>1</td>\n",
       "      <td>3418.0</td>\n",
       "      <td>1887</td>\n",
       "      <td>20</td>\n",
       "      <td>0.000</td>\n",
       "    </tr>\n",
       "    <tr>\n",
       "      <th>3</th>\n",
       "      <td>769911858</td>\n",
       "      <td>40</td>\n",
       "      <td>F</td>\n",
       "      <td>4</td>\n",
       "      <td>High School</td>\n",
       "      <td>Unknown</td>\n",
       "      <td>37000</td>\n",
       "      <td>34</td>\n",
       "      <td>3</td>\n",
       "      <td>4</td>\n",
       "      <td>3313.0</td>\n",
       "      <td>1171</td>\n",
       "      <td>20</td>\n",
       "      <td>0.760</td>\n",
       "    </tr>\n",
       "    <tr>\n",
       "      <th>4</th>\n",
       "      <td>709106358</td>\n",
       "      <td>40</td>\n",
       "      <td>M</td>\n",
       "      <td>3</td>\n",
       "      <td>Uneducated</td>\n",
       "      <td>Married</td>\n",
       "      <td>65000</td>\n",
       "      <td>21</td>\n",
       "      <td>5</td>\n",
       "      <td>1</td>\n",
       "      <td>4716.0</td>\n",
       "      <td>816</td>\n",
       "      <td>28</td>\n",
       "      <td>0.000</td>\n",
       "    </tr>\n",
       "  </tbody>\n",
       "</table>\n",
       "</div>"
      ],
      "text/plain": [
       "   customer_id  age gender  dependent_count education_level marital_status  \\\n",
       "0    768805383   45      M                3     High School        Married   \n",
       "1    818770008   49      F                5        Graduate         Single   \n",
       "2    713982108   51      M                3        Graduate        Married   \n",
       "3    769911858   40      F                4     High School        Unknown   \n",
       "4    709106358   40      M                3      Uneducated        Married   \n",
       "\n",
       "   estimated_income  months_on_book  total_relationship_count  \\\n",
       "0             69000              39                         5   \n",
       "1             24000              44                         6   \n",
       "2             93000              36                         4   \n",
       "3             37000              34                         3   \n",
       "4             65000              21                         5   \n",
       "\n",
       "   months_inactive_12_mon  credit_limit  total_trans_amount  \\\n",
       "0                       1       12691.0                1144   \n",
       "1                       1        8256.0                1291   \n",
       "2                       1        3418.0                1887   \n",
       "3                       4        3313.0                1171   \n",
       "4                       1        4716.0                 816   \n",
       "\n",
       "   total_trans_count  avg_utilization_ratio  \n",
       "0                 42                  0.061  \n",
       "1                 33                  0.105  \n",
       "2                 20                  0.000  \n",
       "3                 20                  0.760  \n",
       "4                 28                  0.000  "
      ]
     },
     "execution_count": 2,
     "metadata": {},
     "output_type": "execute_result"
    }
   ],
   "source": [
    "# Read the data into a dataframe.\n",
    "customers = pd.read_csv('customer_segmentation.csv')\n",
    "\n",
    "# Display the first 5 rows of the dataframe.\n",
    "customers.head()"
   ]
  },
  {
   "cell_type": "markdown",
   "metadata": {},
   "source": [
    "### Exploratory Data Analysis"
   ]
  },
  {
   "cell_type": "code",
   "execution_count": 3,
   "metadata": {},
   "outputs": [
    {
     "name": "stdout",
     "output_type": "stream",
     "text": [
      "<class 'pandas.core.frame.DataFrame'>\n",
      "RangeIndex: 10127 entries, 0 to 10126\n",
      "Data columns (total 14 columns):\n",
      " #   Column                    Non-Null Count  Dtype  \n",
      "---  ------                    --------------  -----  \n",
      " 0   customer_id               10127 non-null  int64  \n",
      " 1   age                       10127 non-null  int64  \n",
      " 2   gender                    10127 non-null  object \n",
      " 3   dependent_count           10127 non-null  int64  \n",
      " 4   education_level           10127 non-null  object \n",
      " 5   marital_status            10127 non-null  object \n",
      " 6   estimated_income          10127 non-null  int64  \n",
      " 7   months_on_book            10127 non-null  int64  \n",
      " 8   total_relationship_count  10127 non-null  int64  \n",
      " 9   months_inactive_12_mon    10127 non-null  int64  \n",
      " 10  credit_limit              10127 non-null  float64\n",
      " 11  total_trans_amount        10127 non-null  int64  \n",
      " 12  total_trans_count         10127 non-null  int64  \n",
      " 13  avg_utilization_ratio     10127 non-null  float64\n",
      "dtypes: float64(2), int64(9), object(3)\n",
      "memory usage: 1.1+ MB\n"
     ]
    }
   ],
   "source": [
    "customers.info()"
   ]
  },
  {
   "cell_type": "markdown",
   "metadata": {},
   "source": [
    "There are 10,127 rows and 14 columns in the dataset.\n",
    "\n",
    "The first column contains the a unique identifier for each customer, which won't be needed in the segmentation process. This means that we are left with 13 columns."
   ]
  },
  {
   "cell_type": "code",
   "execution_count": 4,
   "metadata": {},
   "outputs": [
    {
     "data": {
      "text/plain": [
       "int64      9\n",
       "object     3\n",
       "float64    2\n",
       "dtype: int64"
      ]
     },
     "execution_count": 4,
     "metadata": {},
     "output_type": "execute_result"
    }
   ],
   "source": [
    "# Count the column data types.\n",
    "customers.dtypes.value_counts()"
   ]
  },
  {
   "cell_type": "markdown",
   "metadata": {},
   "source": [
    "Ignoring the customer_id column, we have 8 columns containing integers, 3 columns of the string type, and two columns with floats. There 3 string columns are of categorical type (`gender`, `education_level`, and `marital_status`)."
   ]
  },
  {
   "cell_type": "code",
   "execution_count": 5,
   "metadata": {},
   "outputs": [
    {
     "data": {
      "text/plain": [
       "customer_id                 0\n",
       "age                         0\n",
       "gender                      0\n",
       "dependent_count             0\n",
       "education_level             0\n",
       "marital_status              0\n",
       "estimated_income            0\n",
       "months_on_book              0\n",
       "total_relationship_count    0\n",
       "months_inactive_12_mon      0\n",
       "credit_limit                0\n",
       "total_trans_amount          0\n",
       "total_trans_count           0\n",
       "avg_utilization_ratio       0\n",
       "dtype: int64"
      ]
     },
     "execution_count": 5,
     "metadata": {},
     "output_type": "execute_result"
    }
   ],
   "source": [
    "# Check for missing values\n",
    "customers.isna().sum()"
   ]
  },
  {
   "cell_type": "markdown",
   "metadata": {},
   "source": [
    "There are no missing values in any of the columns."
   ]
  },
  {
   "cell_type": "markdown",
   "metadata": {},
   "source": [
    "Let's create a Pearson's correlation heat map to explore how the columns correlate to one another."
   ]
  },
  {
   "cell_type": "code",
   "execution_count": 6,
   "metadata": {},
   "outputs": [
    {
     "data": {
      "text/plain": [
       "<AxesSubplot:>"
      ]
     },
     "execution_count": 6,
     "metadata": {},
     "output_type": "execute_result"
    },
    {
     "data": {
      "image/png": "[encoded data removed]",
      "text/plain": [
       "<Figure size 864x576 with 2 Axes>"
      ]
     },
     "metadata": {
      "needs_background": "light"
     },
     "output_type": "display_data"
    }
   ],
   "source": [
    "# Drop customer_id since we're not going to use it.\n",
    "customers_clean = customers.drop('customer_id', axis=1)\n",
    "\n",
    "correlations = customers_clean.corr()\n",
    "plt.figure(figsize=(12,8))\n",
    "sns.heatmap(correlations, annot=True, cmap='Greens')"
   ]
  },
  {
   "cell_type": "markdown",
   "metadata": {},
   "source": [
    "The following columns are correlated with each other (above or below arbitrary cutoff points of +/- 0.3):\n",
    "* `age` and `months_on_book` (positive);\n",
    "* `credit_limit` and `estimated_income` (positive);\n",
    "* `credit_limit` and `avg_utilization_ratio` (negative); \n",
    "* `total_trans_amount` and `total_trans_count`  (positive); and\n",
    "* `total_relationship_count` and `total_trans_amount` (negative)."
   ]
  },
  {
   "cell_type": "code",
   "execution_count": 7,
   "metadata": {},
   "outputs": [
    {
     "data": {
      "image/png": "[encoded data removed]",
      "text/plain": [
       "<Figure size 864x720 with 12 Axes>"
      ]
     },
     "metadata": {
      "needs_background": "light"
     },
     "output_type": "display_data"
    }
   ],
   "source": [
    "import warnings\n",
    "warnings.filterwarnings('ignore')\n",
    "\n",
    "# Plot the distribution of each numeric column\n",
    "fig, ax = plt.subplots(figsize=(12,10))\n",
    "\n",
    "customers_clean.hist(ax=ax)\n",
    "plt.show()"
   ]
  },
  {
   "cell_type": "markdown",
   "metadata": {},
   "source": [
    "The distribution of `age` and `credit_limit` appear close to being normal, while the rest look skewed."
   ]
  },
  {
   "cell_type": "code",
   "execution_count": 8,
   "metadata": {},
   "outputs": [
    {
     "name": "stdout",
     "output_type": "stream",
     "text": [
      "F    5358\n",
      "M    4769\n",
      "Name: gender, dtype: int64\n",
      "\n",
      "Graduate         3685\n",
      "High School      2351\n",
      "Uneducated       1755\n",
      "College          1192\n",
      "Post-Graduate     616\n",
      "Doctorate         528\n",
      "Name: education_level, dtype: int64\n",
      "\n",
      "Married     4687\n",
      "Single      3943\n",
      "Unknown      749\n",
      "Divorced     748\n",
      "Name: marital_status, dtype: int64\n",
      "\n"
     ]
    }
   ],
   "source": [
    "# Let's look at the categorical variables\n",
    "categorical_cols = ['gender', 'education_level', 'marital_status']\n",
    "\n",
    "for column in categorical_cols:\n",
    "    print(customers[column].value_counts(), end='\\n\\n')"
   ]
  },
  {
   "cell_type": "markdown",
   "metadata": {},
   "source": [
    "## 2. Feature Engineering"
   ]
  },
  {
   "cell_type": "markdown",
   "metadata": {},
   "source": [
    "There are three categorical columns: `gender`, `education_level`, and `marital_status`. We will now deal with them."
   ]
  },
  {
   "cell_type": "markdown",
   "metadata": {},
   "source": [
    "Let's first look at the gender and educational_level columns."
   ]
  },
  {
   "cell_type": "code",
   "execution_count": 9,
   "metadata": {},
   "outputs": [
    {
     "data": {
      "text/plain": [
       "F    5358\n",
       "M    4769\n",
       "Name: gender, dtype: int64"
      ]
     },
     "execution_count": 9,
     "metadata": {},
     "output_type": "execute_result"
    }
   ],
   "source": [
    "# Get the value counts for the 'gender' column\n",
    "customers['gender'].value_counts()"
   ]
  },
  {
   "cell_type": "code",
   "execution_count": 10,
   "metadata": {},
   "outputs": [
    {
     "data": {
      "text/plain": [
       "Graduate         3685\n",
       "High School      2351\n",
       "Uneducated       1755\n",
       "College          1192\n",
       "Post-Graduate     616\n",
       "Doctorate         528\n",
       "Name: education_level, dtype: int64"
      ]
     },
     "execution_count": 10,
     "metadata": {},
     "output_type": "execute_result"
    }
   ],
   "source": [
    "# Get the value counts for the 'educational_column' column\n",
    "customers['education_level'].value_counts()"
   ]
  },
  {
   "cell_type": "code",
   "execution_count": 11,
   "metadata": {},
   "outputs": [],
   "source": [
    "# Create a copy of the original 'customers' dataframe\n",
    "customers_modif = customers.copy()"
   ]
  },
  {
   "cell_type": "code",
   "execution_count": 12,
   "metadata": {},
   "outputs": [],
   "source": [
    "# Replace the values in the 'gender' column with 1 for 'M' and 0 for 'F'\n",
    "customers_modif['gender'] = customers_modif['gender'].apply(lambda x:1 if x=='M' else 0)"
   ]
  },
  {
   "cell_type": "code",
   "execution_count": 13,
   "metadata": {},
   "outputs": [
    {
     "data": {
      "text/plain": [
       "0    5358\n",
       "1    4769\n",
       "Name: gender, dtype: int64"
      ]
     },
     "execution_count": 13,
     "metadata": {},
     "output_type": "execute_result"
    }
   ],
   "source": [
    "# Check that the counts are still the same after the conversion\n",
    "customers_modif['gender'].value_counts()"
   ]
  },
  {
   "cell_type": "code",
   "execution_count": 14,
   "metadata": {},
   "outputs": [],
   "source": [
    "# Create a replacement mapping dictionary for the education_level column\n",
    "mapping = {\n",
    "    'Uneducated':0,\n",
    "    'High School':1,\n",
    "    'College':2,\n",
    "    'Graduate':3,\n",
    "    'Post-Graduate':4,\n",
    "    'Doctorate':5\n",
    "}\n",
    "\n",
    "customers_modif['education_level'] = customers_modif['education_level'].map(mapping)"
   ]
  },
  {
   "cell_type": "code",
   "execution_count": 15,
   "metadata": {},
   "outputs": [
    {
     "data": {
      "text/plain": [
       "0    1755\n",
       "1    2351\n",
       "2    1192\n",
       "3    3685\n",
       "4     616\n",
       "5     528\n",
       "Name: education_level, dtype: int64"
      ]
     },
     "execution_count": 15,
     "metadata": {},
     "output_type": "execute_result"
    }
   ],
   "source": [
    "# Check that the counts are still the same after the conversion\n",
    "customers_modif['education_level'].value_counts().sort_index()"
   ]
  },
  {
   "cell_type": "markdown",
   "metadata": {},
   "source": [
    "## 3. Feature Engineering - Part 2"
   ]
  },
  {
   "cell_type": "markdown",
   "metadata": {},
   "source": [
    "We will now deal with the third categorical column: marital_status column. Here, there is no level of magnitude between the categories \"Single\", \"Married\", \"Divorced\", and \"Unknown\", which means that we can't rank them objectively. We will, therefore, use one-hot-encoding to create dummy variables from this column."
   ]
  },
  {
   "cell_type": "code",
   "execution_count": 16,
   "metadata": {},
   "outputs": [
    {
     "data": {
      "text/html": [
       "<div>\n",
       "<style scoped>\n",
       "    .dataframe tbody tr th:only-of-type {\n",
       "        vertical-align: middle;\n",
       "    }\n",
       "\n",
       "    .dataframe tbody tr th {\n",
       "        vertical-align: top;\n",
       "    }\n",
       "\n",
       "    .dataframe thead th {\n",
       "        text-align: right;\n",
       "    }\n",
       "</style>\n",
       "<table border=\"1\" class=\"dataframe\">\n",
       "  <thead>\n",
       "    <tr style=\"text-align: right;\">\n",
       "      <th></th>\n",
       "      <th>customer_id</th>\n",
       "      <th>age</th>\n",
       "      <th>gender</th>\n",
       "      <th>dependent_count</th>\n",
       "      <th>education_level</th>\n",
       "      <th>estimated_income</th>\n",
       "      <th>months_on_book</th>\n",
       "      <th>total_relationship_count</th>\n",
       "      <th>months_inactive_12_mon</th>\n",
       "      <th>credit_limit</th>\n",
       "      <th>total_trans_amount</th>\n",
       "      <th>total_trans_count</th>\n",
       "      <th>avg_utilization_ratio</th>\n",
       "      <th>marital_status_Married</th>\n",
       "      <th>marital_status_Single</th>\n",
       "      <th>marital_status_Unknown</th>\n",
       "    </tr>\n",
       "  </thead>\n",
       "  <tbody>\n",
       "    <tr>\n",
       "      <th>0</th>\n",
       "      <td>768805383</td>\n",
       "      <td>45</td>\n",
       "      <td>1</td>\n",
       "      <td>3</td>\n",
       "      <td>1</td>\n",
       "      <td>69000</td>\n",
       "      <td>39</td>\n",
       "      <td>5</td>\n",
       "      <td>1</td>\n",
       "      <td>12691.0</td>\n",
       "      <td>1144</td>\n",
       "      <td>42</td>\n",
       "      <td>0.061</td>\n",
       "      <td>1</td>\n",
       "      <td>0</td>\n",
       "      <td>0</td>\n",
       "    </tr>\n",
       "    <tr>\n",
       "      <th>1</th>\n",
       "      <td>818770008</td>\n",
       "      <td>49</td>\n",
       "      <td>0</td>\n",
       "      <td>5</td>\n",
       "      <td>3</td>\n",
       "      <td>24000</td>\n",
       "      <td>44</td>\n",
       "      <td>6</td>\n",
       "      <td>1</td>\n",
       "      <td>8256.0</td>\n",
       "      <td>1291</td>\n",
       "      <td>33</td>\n",
       "      <td>0.105</td>\n",
       "      <td>0</td>\n",
       "      <td>1</td>\n",
       "      <td>0</td>\n",
       "    </tr>\n",
       "    <tr>\n",
       "      <th>2</th>\n",
       "      <td>713982108</td>\n",
       "      <td>51</td>\n",
       "      <td>1</td>\n",
       "      <td>3</td>\n",
       "      <td>3</td>\n",
       "      <td>93000</td>\n",
       "      <td>36</td>\n",
       "      <td>4</td>\n",
       "      <td>1</td>\n",
       "      <td>3418.0</td>\n",
       "      <td>1887</td>\n",
       "      <td>20</td>\n",
       "      <td>0.000</td>\n",
       "      <td>1</td>\n",
       "      <td>0</td>\n",
       "      <td>0</td>\n",
       "    </tr>\n",
       "    <tr>\n",
       "      <th>3</th>\n",
       "      <td>769911858</td>\n",
       "      <td>40</td>\n",
       "      <td>0</td>\n",
       "      <td>4</td>\n",
       "      <td>1</td>\n",
       "      <td>37000</td>\n",
       "      <td>34</td>\n",
       "      <td>3</td>\n",
       "      <td>4</td>\n",
       "      <td>3313.0</td>\n",
       "      <td>1171</td>\n",
       "      <td>20</td>\n",
       "      <td>0.760</td>\n",
       "      <td>0</td>\n",
       "      <td>0</td>\n",
       "      <td>1</td>\n",
       "    </tr>\n",
       "    <tr>\n",
       "      <th>4</th>\n",
       "      <td>709106358</td>\n",
       "      <td>40</td>\n",
       "      <td>1</td>\n",
       "      <td>3</td>\n",
       "      <td>0</td>\n",
       "      <td>65000</td>\n",
       "      <td>21</td>\n",
       "      <td>5</td>\n",
       "      <td>1</td>\n",
       "      <td>4716.0</td>\n",
       "      <td>816</td>\n",
       "      <td>28</td>\n",
       "      <td>0.000</td>\n",
       "      <td>1</td>\n",
       "      <td>0</td>\n",
       "      <td>0</td>\n",
       "    </tr>\n",
       "  </tbody>\n",
       "</table>\n",
       "</div>"
      ],
      "text/plain": [
       "   customer_id  age  gender  dependent_count  education_level  \\\n",
       "0    768805383   45       1                3                1   \n",
       "1    818770008   49       0                5                3   \n",
       "2    713982108   51       1                3                3   \n",
       "3    769911858   40       0                4                1   \n",
       "4    709106358   40       1                3                0   \n",
       "\n",
       "   estimated_income  months_on_book  total_relationship_count  \\\n",
       "0             69000              39                         5   \n",
       "1             24000              44                         6   \n",
       "2             93000              36                         4   \n",
       "3             37000              34                         3   \n",
       "4             65000              21                         5   \n",
       "\n",
       "   months_inactive_12_mon  credit_limit  total_trans_amount  \\\n",
       "0                       1       12691.0                1144   \n",
       "1                       1        8256.0                1291   \n",
       "2                       1        3418.0                1887   \n",
       "3                       4        3313.0                1171   \n",
       "4                       1        4716.0                 816   \n",
       "\n",
       "   total_trans_count  avg_utilization_ratio  marital_status_Married  \\\n",
       "0                 42                  0.061                       1   \n",
       "1                 33                  0.105                       0   \n",
       "2                 20                  0.000                       1   \n",
       "3                 20                  0.760                       0   \n",
       "4                 28                  0.000                       1   \n",
       "\n",
       "   marital_status_Single  marital_status_Unknown  \n",
       "0                      0                       0  \n",
       "1                      1                       0  \n",
       "2                      0                       0  \n",
       "3                      0                       1  \n",
       "4                      0                       0  "
      ]
     },
     "execution_count": 16,
     "metadata": {},
     "output_type": "execute_result"
    }
   ],
   "source": [
    "# Perform one-hot-encoding\n",
    "customers_modif = pd.get_dummies(data=customers_modif, columns=['marital_status'], drop_first=True)\n",
    "customers_modif.head()"
   ]
  },
  {
   "cell_type": "markdown",
   "metadata": {},
   "source": [
    "## 4. Scaling the Data"
   ]
  },
  {
   "cell_type": "markdown",
   "metadata": {},
   "source": [
    "We now need to transform the data so they're all on the same scale."
   ]
  },
  {
   "cell_type": "code",
   "execution_count": null,
   "metadata": {},
   "outputs": [],
   "source": []
  }
 ],
 "metadata": {
  "kernelspec": {
   "display_name": "Python 3 (ipykernel)",
   "language": "python",
   "name": "python3"
  },
  "language_info": {
   "codemirror_mode": {
    "name": "ipython",
    "version": 3
   },
   "file_extension": ".py",
   "mimetype": "text/x-python",
   "name": "python",
   "nbconvert_exporter": "python",
   "pygments_lexer": "ipython3",
   "version": "3.8.5"
  }
 },
 "nbformat": 4,
 "nbformat_minor": 4
}
